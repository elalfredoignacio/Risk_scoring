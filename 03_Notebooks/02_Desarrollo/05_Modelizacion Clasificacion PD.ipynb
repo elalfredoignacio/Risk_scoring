{
 "cells": [
  {
   "cell_type": "markdown",
   "id": "d31dea65",
   "metadata": {},
   "source": [
    "# MODELIZACIÓN CLASIFICACIÓN PROBABILITY OF DEFAULT"
   ]
  },
  {
   "cell_type": "markdown",
   "id": "swiss-fault",
   "metadata": {},
   "source": [
    "## IMPORTAR PAQUETES"
   ]
  },
  {
   "cell_type": "code",
   "execution_count": 1,
   "id": "adjacent-toddler",
   "metadata": {},
   "outputs": [],
   "source": [
    "import numpy as np\n",
    "import pandas as pd\n",
    "import matplotlib.pyplot as plt\n",
    "%matplotlib inline\n",
    "\n",
    "from sklearn.model_selection import train_test_split\n",
    "\n",
    "from sklearn.linear_model import LogisticRegression\n",
    "from sklearn.pipeline import Pipeline\n",
    "\n",
    "from sklearn.model_selection import GridSearchCV\n",
    "\n",
    "from sklearn.metrics import roc_auc_score\n",
    "from sklearn.metrics import confusion_matrix\n",
    "from sklearn.metrics import ConfusionMatrixDisplay\n",
    "from sklearn.metrics import classification_report\n",
    "\n",
    "from sklearn.metrics import RocCurveDisplay\n",
    "import scikitplot as skplt\n",
    "from yellowbrick.classifier import discrimination_threshold\n",
    "\n",
    "#Autocompletar rápido\n",
    "%config IPCompleter.greedy=True\n",
    "\n",
    "#Desactivar la notación científica\n",
    "pd.options.display.float_format = '{:.2f}'.format\n",
    "\n",
    "#Desactivar los warnings\n",
    "import warnings\n",
    "warnings.filterwarnings(\"ignore\")"
   ]
  },
  {
   "cell_type": "markdown",
   "id": "graduate-compensation",
   "metadata": {},
   "source": [
    "## IMPORTAR LOS DATOS"
   ]
  },
  {
   "cell_type": "markdown",
   "id": "3a5b94ef",
   "metadata": {},
   "source": [
    "Sustituir la ruta del proyecto."
   ]
  },
  {
   "cell_type": "code",
   "execution_count": 3,
   "id": "f9d2de58",
   "metadata": {},
   "outputs": [],
   "source": [
    "ruta_proyecto = 'C:/Usuarios/Alfredo/DS4B/Python DS Mastery/EstructuraDirectorio/03_MACHINE_LEARNING/07_CASOS/03_RIESGOS'"
   ]
  },
  {
   "cell_type": "markdown",
   "id": "c3363765",
   "metadata": {},
   "source": [
    "Nombres de los ficheros de datos."
   ]
  },
  {
   "cell_type": "code",
   "execution_count": 4,
   "id": "a9e2e04a",
   "metadata": {},
   "outputs": [],
   "source": [
    "nombre = 'df_tablon_pd.pickle'"
   ]
  },
  {
   "cell_type": "markdown",
   "id": "b9825018",
   "metadata": {},
   "source": [
    "Cargar los datos."
   ]
  },
  {
   "cell_type": "code",
   "execution_count": 5,
   "id": "957982c5",
   "metadata": {},
   "outputs": [],
   "source": [
    "df = pd.read_pickle(ruta_proyecto + '/02_Datos/03_Trabajo/' + nombre)"
   ]
  },
  {
   "cell_type": "code",
   "execution_count": 6,
   "id": "e6a04355",
   "metadata": {},
   "outputs": [],
   "source": [
    "x = df.drop(columns='target_pd')\n",
    "y = df.target_pd"
   ]
  },
  {
   "cell_type": "markdown",
   "id": "fa8db7a6",
   "metadata": {},
   "source": [
    "## MODELIZAR"
   ]
  },
  {
   "cell_type": "markdown",
   "id": "642e86dd",
   "metadata": {},
   "source": [
    "Para este proyecto vamos a utlizar Logistic Regression (LR) para la PD, y LightGBM para el EAD y LGD.\n",
    "\n",
    "No se hará preselección de variables porque son pocas las que tenemos, y además para LightGBM no es \n",
    "necesario este paso dado que el propio algoritmo ya hace una preselección de variables.\n",
    "\n",
    "Para LR se aplicará regularización Lasso que hace una selección de variables."
   ]
  },
  {
   "cell_type": "markdown",
   "id": "930f685f",
   "metadata": {},
   "source": [
    "### Reservar el dataset de validacion"
   ]
  },
  {
   "cell_type": "code",
   "execution_count": 8,
   "id": "84b6fd41",
   "metadata": {},
   "outputs": [],
   "source": [
    "train_x,val_x,train_y,val_y = train_test_split(x,y,test_size=0.3)"
   ]
  },
  {
   "cell_type": "markdown",
   "id": "53bd4ad6",
   "metadata": {},
   "source": [
    "### Crear el pipe y el diccionario de algorimos, parámetros y valores a testar"
   ]
  },
  {
   "cell_type": "markdown",
   "id": "19b25807",
   "metadata": {},
   "source": [
    "Modificar para dejar solo los algoritmos que se quieran testar.\n",
    "\n",
    "Modificar los parámetros."
   ]
  },
  {
   "cell_type": "code",
   "execution_count": 9,
   "id": "3efa5c98",
   "metadata": {},
   "outputs": [],
   "source": [
    "pipe = Pipeline([('algoritmo',LogisticRegression())])\n",
    "\n",
    "grid = [{'algoritmo': [LogisticRegression(solver = 'saga', n_jobs=-1)],\n",
    "         'algoritmo__penalty': ['elasticnet', 'l1', 'l2'],\n",
    "         'algoritmo__C': [0,0.25,0.5,0.75,1]}\n",
    "       ]"
   ]
  },
  {
   "cell_type": "markdown",
   "id": "1f836ca9",
   "metadata": {},
   "source": [
    "### Optimizar los hiper parámetros"
   ]
  },
  {
   "cell_type": "markdown",
   "id": "32983bac",
   "metadata": {},
   "source": [
    "Elegir si se quiere usar grid search o random search.\n",
    "\n",
    "Comentar la opción que no se vaya a usar."
   ]
  },
  {
   "cell_type": "markdown",
   "id": "3d73daa9",
   "metadata": {},
   "source": [
    "####  Con grid search"
   ]
  },
  {
   "cell_type": "code",
   "execution_count": 10,
   "id": "4be08386",
   "metadata": {
    "scrolled": true
   },
   "outputs": [],
   "source": [
    "grid_search = GridSearchCV(estimator= pipe, \n",
    "                           param_grid = grid, \n",
    "                           cv = 5, \n",
    "                           scoring = 'roc_auc',\n",
    "                           verbose = 0,\n",
    "                           n_jobs = -1)\n",
    "\n",
    "modelo = grid_search.fit(train_x,train_y)"
   ]
  },
  {
   "cell_type": "code",
   "execution_count": 11,
   "id": "3c36f4b2",
   "metadata": {},
   "outputs": [
    {
     "data": {
      "text/html": [
       "<div>\n",
       "<style scoped>\n",
       "    .dataframe tbody tr th:only-of-type {\n",
       "        vertical-align: middle;\n",
       "    }\n",
       "\n",
       "    .dataframe tbody tr th {\n",
       "        vertical-align: top;\n",
       "    }\n",
       "\n",
       "    .dataframe thead th {\n",
       "        text-align: right;\n",
       "    }\n",
       "</style>\n",
       "<table border=\"1\" class=\"dataframe\">\n",
       "  <thead>\n",
       "    <tr style=\"text-align: right;\">\n",
       "      <th></th>\n",
       "      <th>mean_fit_time</th>\n",
       "      <th>std_fit_time</th>\n",
       "      <th>mean_score_time</th>\n",
       "      <th>std_score_time</th>\n",
       "      <th>param_algoritmo</th>\n",
       "      <th>param_algoritmo__C</th>\n",
       "      <th>param_algoritmo__penalty</th>\n",
       "      <th>params</th>\n",
       "      <th>split0_test_score</th>\n",
       "      <th>split1_test_score</th>\n",
       "      <th>split2_test_score</th>\n",
       "      <th>split3_test_score</th>\n",
       "      <th>split4_test_score</th>\n",
       "      <th>mean_test_score</th>\n",
       "      <th>std_test_score</th>\n",
       "      <th>rank_test_score</th>\n",
       "    </tr>\n",
       "  </thead>\n",
       "  <tbody>\n",
       "    <tr>\n",
       "      <th>0</th>\n",
       "      <td>12.01</td>\n",
       "      <td>0.10</td>\n",
       "      <td>0.02</td>\n",
       "      <td>0.00</td>\n",
       "      <td>LogisticRegression(C=1, n_jobs=-1, penalty='l1...</td>\n",
       "      <td>1</td>\n",
       "      <td>l1</td>\n",
       "      <td>{'algoritmo': LogisticRegression(C=1, n_jobs=-...</td>\n",
       "      <td>0.71</td>\n",
       "      <td>0.71</td>\n",
       "      <td>0.70</td>\n",
       "      <td>0.70</td>\n",
       "      <td>0.70</td>\n",
       "      <td>0.70</td>\n",
       "      <td>0.00</td>\n",
       "      <td>1</td>\n",
       "    </tr>\n",
       "    <tr>\n",
       "      <th>1</th>\n",
       "      <td>12.92</td>\n",
       "      <td>0.25</td>\n",
       "      <td>0.02</td>\n",
       "      <td>0.00</td>\n",
       "      <td>LogisticRegression(C=1, n_jobs=-1, penalty='l1...</td>\n",
       "      <td>0.75</td>\n",
       "      <td>l1</td>\n",
       "      <td>{'algoritmo': LogisticRegression(C=1, n_jobs=-...</td>\n",
       "      <td>0.71</td>\n",
       "      <td>0.71</td>\n",
       "      <td>0.70</td>\n",
       "      <td>0.70</td>\n",
       "      <td>0.70</td>\n",
       "      <td>0.70</td>\n",
       "      <td>0.00</td>\n",
       "      <td>2</td>\n",
       "    </tr>\n",
       "    <tr>\n",
       "      <th>2</th>\n",
       "      <td>9.30</td>\n",
       "      <td>0.37</td>\n",
       "      <td>0.01</td>\n",
       "      <td>0.01</td>\n",
       "      <td>LogisticRegression(C=1, n_jobs=-1, penalty='l1...</td>\n",
       "      <td>1</td>\n",
       "      <td>l2</td>\n",
       "      <td>{'algoritmo': LogisticRegression(C=1, n_jobs=-...</td>\n",
       "      <td>0.71</td>\n",
       "      <td>0.71</td>\n",
       "      <td>0.70</td>\n",
       "      <td>0.70</td>\n",
       "      <td>0.70</td>\n",
       "      <td>0.70</td>\n",
       "      <td>0.00</td>\n",
       "      <td>3</td>\n",
       "    </tr>\n",
       "    <tr>\n",
       "      <th>3</th>\n",
       "      <td>9.81</td>\n",
       "      <td>0.17</td>\n",
       "      <td>0.02</td>\n",
       "      <td>0.00</td>\n",
       "      <td>LogisticRegression(C=1, n_jobs=-1, penalty='l1...</td>\n",
       "      <td>0.75</td>\n",
       "      <td>l2</td>\n",
       "      <td>{'algoritmo': LogisticRegression(C=1, n_jobs=-...</td>\n",
       "      <td>0.71</td>\n",
       "      <td>0.71</td>\n",
       "      <td>0.70</td>\n",
       "      <td>0.70</td>\n",
       "      <td>0.70</td>\n",
       "      <td>0.70</td>\n",
       "      <td>0.00</td>\n",
       "      <td>4</td>\n",
       "    </tr>\n",
       "    <tr>\n",
       "      <th>4</th>\n",
       "      <td>13.68</td>\n",
       "      <td>0.46</td>\n",
       "      <td>0.02</td>\n",
       "      <td>0.00</td>\n",
       "      <td>LogisticRegression(C=1, n_jobs=-1, penalty='l1...</td>\n",
       "      <td>0.50</td>\n",
       "      <td>l1</td>\n",
       "      <td>{'algoritmo': LogisticRegression(C=1, n_jobs=-...</td>\n",
       "      <td>0.71</td>\n",
       "      <td>0.71</td>\n",
       "      <td>0.70</td>\n",
       "      <td>0.70</td>\n",
       "      <td>0.70</td>\n",
       "      <td>0.70</td>\n",
       "      <td>0.00</td>\n",
       "      <td>5</td>\n",
       "    </tr>\n",
       "  </tbody>\n",
       "</table>\n",
       "</div>"
      ],
      "text/plain": [
       "   mean_fit_time  std_fit_time  mean_score_time  std_score_time  \\\n",
       "0          12.01          0.10             0.02            0.00   \n",
       "1          12.92          0.25             0.02            0.00   \n",
       "2           9.30          0.37             0.01            0.01   \n",
       "3           9.81          0.17             0.02            0.00   \n",
       "4          13.68          0.46             0.02            0.00   \n",
       "\n",
       "                                     param_algoritmo param_algoritmo__C  \\\n",
       "0  LogisticRegression(C=1, n_jobs=-1, penalty='l1...                  1   \n",
       "1  LogisticRegression(C=1, n_jobs=-1, penalty='l1...               0.75   \n",
       "2  LogisticRegression(C=1, n_jobs=-1, penalty='l1...                  1   \n",
       "3  LogisticRegression(C=1, n_jobs=-1, penalty='l1...               0.75   \n",
       "4  LogisticRegression(C=1, n_jobs=-1, penalty='l1...               0.50   \n",
       "\n",
       "  param_algoritmo__penalty                                             params  \\\n",
       "0                       l1  {'algoritmo': LogisticRegression(C=1, n_jobs=-...   \n",
       "1                       l1  {'algoritmo': LogisticRegression(C=1, n_jobs=-...   \n",
       "2                       l2  {'algoritmo': LogisticRegression(C=1, n_jobs=-...   \n",
       "3                       l2  {'algoritmo': LogisticRegression(C=1, n_jobs=-...   \n",
       "4                       l1  {'algoritmo': LogisticRegression(C=1, n_jobs=-...   \n",
       "\n",
       "   split0_test_score  split1_test_score  split2_test_score  split3_test_score  \\\n",
       "0               0.71               0.71               0.70               0.70   \n",
       "1               0.71               0.71               0.70               0.70   \n",
       "2               0.71               0.71               0.70               0.70   \n",
       "3               0.71               0.71               0.70               0.70   \n",
       "4               0.71               0.71               0.70               0.70   \n",
       "\n",
       "   split4_test_score  mean_test_score  std_test_score  rank_test_score  \n",
       "0               0.70             0.70            0.00                1  \n",
       "1               0.70             0.70            0.00                2  \n",
       "2               0.70             0.70            0.00                3  \n",
       "3               0.70             0.70            0.00                4  \n",
       "4               0.70             0.70            0.00                5  "
      ]
     },
     "execution_count": 11,
     "metadata": {},
     "output_type": "execute_result"
    }
   ],
   "source": [
    "salida = pd.DataFrame(grid_search.cv_results_).sort_values(by = 'rank_test_score').reset_index(drop=True).head(5)\n",
    "salida"
   ]
  },
  {
   "cell_type": "markdown",
   "id": "148c07c8",
   "metadata": {},
   "source": [
    "Vemos que el resultados del auc (mean_test_score) es el mismo en todas las primeras configuraciones.\n",
    "\n",
    "Y reentreamos el modelo con esa configuración. Como se indicó antes, ante las misma mean_test_score, vamos preferir Lasso (L1) por la selección de variables"
   ]
  },
  {
   "cell_type": "code",
   "execution_count": 12,
   "id": "520aaaf6",
   "metadata": {},
   "outputs": [
    {
     "data": {
      "text/plain": [
       "LogisticRegression(C=1, n_jobs=-1, penalty='l1', solver='saga')"
      ]
     },
     "execution_count": 12,
     "metadata": {},
     "output_type": "execute_result"
    }
   ],
   "source": [
    "#Instanciar\n",
    "rl = LogisticRegression(solver = 'saga', n_jobs=-1, C = 1, penalty = 'l1')\n",
    "\n",
    "#Entrenar\n",
    "rl.fit(train_x,train_y)"
   ]
  },
  {
   "cell_type": "markdown",
   "id": "1be35162",
   "metadata": {},
   "source": [
    "Podemos revisar los coefecientes para ver los que son cero y las variables más importantes."
   ]
  },
  {
   "cell_type": "code",
   "execution_count": 13,
   "id": "ae7a69db",
   "metadata": {},
   "outputs": [
    {
     "data": {
      "text/plain": [
       "tipo_interes_mms                       -2.58\n",
       "principal_mms                          -1.75\n",
       "ingresos_mms                           -1.03\n",
       "ingresos_verificados_Not Verified      -0.32\n",
       "num_cuotas_ 36 months                  -0.30\n",
       "finalidad_vacation                     -0.23\n",
       "finalidad_house                        -0.19\n",
       "vivienda_MORTGAGE                      -0.18\n",
       "finalidad_other                        -0.13\n",
       "finalidad_credit_card                  -0.10\n",
       "finalidad_car                          -0.05\n",
       "vivienda_OWN                           -0.04\n",
       "finalidad_home_improvement             -0.03\n",
       "ingresos_verificados_Source Verified   -0.03\n",
       "antigüedad_empleo_oe                   -0.00\n",
       "num_cuotas_ 60 months                   0.00\n",
       "rating_oe_mms                           0.00\n",
       "antigüedad_empleo_oe_mms                0.00\n",
       "finalidad_debt_consolidation            0.00\n",
       "dti_mms                                 0.00\n",
       "finalidad_medical                       0.03\n",
       "vivienda_RENT                           0.07\n",
       "ingresos_verificados_Verified           0.07\n",
       "finalidad_major_purchase                0.08\n",
       "finalidad_otros                         0.11\n",
       "num_derogatorios_bin                    0.14\n",
       "finalidad_moving                        0.15\n",
       "finalidad_small_business                0.16\n",
       "rating_oe                               0.76\n",
       "porc_uso_revolving_mms                  1.22\n",
       "num_lineas_credito_mms                  1.64\n",
       "imp_cuota_mms                           2.66\n",
       "dtype: float64"
      ]
     },
     "execution_count": 13,
     "metadata": {},
     "output_type": "execute_result"
    }
   ],
   "source": [
    "coeficientes = pd.DataFrame(data = rl.coef_, columns = rl.feature_names_in_).stack().droplevel(level = 0).sort_values()\n",
    "coeficientes"
   ]
  },
  {
   "cell_type": "markdown",
   "id": "05eec7a6",
   "metadata": {},
   "source": [
    "**IMPORTANTE**\n",
    "\n",
    "Vemos cosas raras como que el signo del principal y del tipo de interés son negativos.\n",
    "\n",
    "Es decir, según el modelo, cuanto menos importe pidas mayor es el riesgo de default.\n",
    "\n",
    "O cuanto menor es el tipo de interés aplicado mayor es el riesgo de default.\n",
    "\n",
    "En una situación real podría pasar, pero al menos se necesitaría una explicación convincente. \n",
    "\n",
    "Nosotros aquí lo daremos por bueno y continuamos."
   ]
  },
  {
   "cell_type": "markdown",
   "id": "fd6f59ab",
   "metadata": {},
   "source": [
    "## EVALUAR"
   ]
  },
  {
   "cell_type": "markdown",
   "id": "90ac986a",
   "metadata": {},
   "source": [
    "### Predecir sobre validación"
   ]
  },
  {
   "cell_type": "code",
   "execution_count": 14,
   "id": "ca079478",
   "metadata": {},
   "outputs": [],
   "source": [
    "pred = rl.predict_proba(val_x)[:, 1]"
   ]
  },
  {
   "cell_type": "markdown",
   "id": "fe9fb9a1",
   "metadata": {},
   "source": [
    "### Evaluar sobre validación"
   ]
  },
  {
   "cell_type": "code",
   "execution_count": 15,
   "id": "f249d6b8",
   "metadata": {},
   "outputs": [
    {
     "data": {
      "text/plain": [
       "0.6933159584724803"
      ]
     },
     "execution_count": 15,
     "metadata": {},
     "output_type": "execute_result"
    }
   ],
   "source": [
    "roc_auc_score(val_y, pred)"
   ]
  },
  {
   "cell_type": "markdown",
   "id": "f2848960",
   "metadata": {},
   "source": [
    "## REPORTING DEL MODELO"
   ]
  },
  {
   "cell_type": "markdown",
   "id": "e25e2c94",
   "metadata": {},
   "source": [
    "### Gain Chart"
   ]
  },
  {
   "cell_type": "code",
   "execution_count": 16,
   "id": "2e63ef9d",
   "metadata": {},
   "outputs": [
    {
     "data": {
      "image/png": "[encoded data removed]",
      "text/plain": [
       "<Figure size 576x396 with 1 Axes>"
      ]
     },
     "metadata": {},
     "output_type": "display_data"
    }
   ],
   "source": [
    "fig, ax = plt.subplots()\n",
    "\n",
    "skplt.metrics.plot_cumulative_gain(val_y, modelo.best_estimator_.predict_proba(val_x), ax=ax) \n",
    "\n",
    "# Eliminamos la línea de los ceros, que internamente tiene etiqueta 'Class 0'\n",
    "lines = ax.get_lines()\n",
    "# Buscar por la etiqueta y eliminar la línea correspondiente\n",
    "for line in lines:\n",
    "    if line.get_label() == 'Class 0':\n",
    "        line.remove()\n",
    "\n",
    "# Personalizamos la leyenda sin incluir la línea de los ceros\n",
    "plt.legend(labels=['Modelo'])\n",
    "\n",
    "# Ahora puedes mostrar el gráfico\n",
    "plt.show()"
   ]
  },
  {
   "cell_type": "markdown",
   "id": "148a74a7",
   "metadata": {},
   "source": [
    "### Lift Chart"
   ]
  },
  {
   "cell_type": "code",
   "execution_count": 17,
   "id": "32e69974",
   "metadata": {},
   "outputs": [
    {
     "data": {
      "image/png": "[encoded data removed]",
      "text/plain": [
       "<Figure size 576x396 with 1 Axes>"
      ]
     },
     "metadata": {},
     "output_type": "display_data"
    }
   ],
   "source": [
    "fig, ax = plt.subplots()\n",
    "\n",
    "skplt.metrics.plot_lift_curve(val_y, modelo.best_estimator_.predict_proba(val_x), ax=ax) \n",
    "\n",
    "# Eliminamos la línea de los ceros, que internamente tiene etiqueta 'Class 0'\n",
    "lines = ax.get_lines()\n",
    "# Buscar por la etiqueta y eliminar la línea correspondiente\n",
    "for line in lines:\n",
    "    if line.get_label() == 'Class 0':\n",
    "        line.remove()\n",
    "\n",
    "# Personalizamos la leyenda sin incluir la línea de los ceros\n",
    "plt.legend(labels=['Modelo'])\n",
    "\n",
    "# Ahora puedes mostrar el gráfico\n",
    "plt.show()"
   ]
  },
  {
   "cell_type": "markdown",
   "id": "b0f64e40",
   "metadata": {},
   "source": [
    "### ROC Chart"
   ]
  },
  {
   "cell_type": "code",
   "execution_count": 18,
   "id": "1b8e1af9",
   "metadata": {},
   "outputs": [
    {
     "data": {
      "image/png": "[encoded data removed]",
      "text/plain": [
       "<Figure size 576x396 with 1 Axes>"
      ]
     },
     "metadata": {},
     "output_type": "display_data"
    }
   ],
   "source": [
    "fig, ax = plt.subplots()\n",
    "\n",
    "# Generamos la gráfica ROC\n",
    "skplt.metrics.plot_roc(val_y, modelo.best_estimator_.predict_proba(val_x), ax=ax)\n",
    "\n",
    "# Obtenemos todas las líneas y las leyendas\n",
    "lines = ax.get_lines()\n",
    "\n",
    "# Recorremos las líneas para eliminar las no deseadas, excepto la línea de la clase 0\n",
    "for line in lines:\n",
    "    if 'ROC curve of class 0' in line.get_label():\n",
    "        line.set_label('Modelo')\n",
    "    elif line.get_linestyle() != '--':  # Mantenemos la línea punteada pero sin leyenda\n",
    "        line.set_visible(False)\n",
    "\n",
    "# Solo añadimos al leyenda la línea de la clase 0 renombrada a 'Modelo'\n",
    "handles, labels = ax.get_legend_handles_labels()\n",
    "new_handles = [h for h, l in zip(handles, labels) if l == 'Modelo']\n",
    "new_labels = ['Modelo']\n",
    "\n",
    "ax.legend(new_handles, new_labels, loc='best')\n",
    "\n",
    "# Ahora puedes mostrar el gráfico\n",
    "plt.show();"
   ]
  },
  {
   "cell_type": "code",
   "execution_count": null,
   "id": "b11ef2e7",
   "metadata": {},
   "outputs": [],
   "source": []
  }
 ],
 "metadata": {
  "kernelspec": {
   "display_name": "Python 3 (ipykernel)",
   "language": "python",
   "name": "python3"
  },
  "language_info": {
   "codemirror_mode": {
    "name": "ipython",
    "version": 3
   },
   "file_extension": ".py",
   "mimetype": "text/x-python",
   "name": "python",
   "nbconvert_exporter": "python",
   "pygments_lexer": "ipython3",
   "version": "3.9.7"
  },
  "toc": {
   "base_numbering": 1,
   "nav_menu": {},
   "number_sections": true,
   "sideBar": true,
   "skip_h1_title": false,
   "title_cell": "Table of Contents",
   "title_sidebar": "Contents",
   "toc_cell": false,
   "toc_position": {
    "height": "calc(100% - 180px)",
    "left": "10px",
    "top": "150px",
    "width": "165px"
   },
   "toc_section_display": true,
   "toc_window_display": true
  },
  "varInspector": {
   "cols": {
    "lenName": 16,
    "lenType": 16,
    "lenVar": 40
   },
   "kernels_config": {
    "python": {
     "delete_cmd_postfix": "",
     "delete_cmd_prefix": "del ",
     "library": "var_list.py",
     "varRefreshCmd": "print(var_dic_list())"
    },
    "r": {
     "delete_cmd_postfix": ") ",
     "delete_cmd_prefix": "rm(",
     "library": "var_list.r",
     "varRefreshCmd": "cat(var_dic_list()) "
    }
   },
   "position": {
    "height": "546.85px",
    "left": "1531.75px",
    "right": "20px",
    "top": "115px",
    "width": "350px"
   },
   "types_to_exclude": [
    "module",
    "function",
    "builtin_function_or_method",
    "instance",
    "_Feature"
   ],
   "window_display": false
  }
 },
 "nbformat": 4,
 "nbformat_minor": 5
}
