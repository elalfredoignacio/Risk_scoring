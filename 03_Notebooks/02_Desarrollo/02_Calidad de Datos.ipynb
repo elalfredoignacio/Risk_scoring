{
 "cells": [
  {
   "cell_type": "markdown",
   "id": "d31dea65",
   "metadata": {},
   "source": [
    "# CALIDAD DE DATOS"
   ]
  },
  {
   "cell_type": "markdown",
   "id": "swiss-fault",
   "metadata": {},
   "source": [
    "## IMPORTAR PAQUETES"
   ]
  },
  {
   "cell_type": "code",
   "execution_count": 1,
   "id": "adjacent-toddler",
   "metadata": {},
   "outputs": [],
   "source": [
    "import numpy as np\n",
    "import pandas as pd\n",
    "from janitor import clean_names\n",
    "\n",
    "#Automcompletar rápido\n",
    "%config IPCompleter.greedy=True\n",
    "\n",
    "#Desactivar notación científica\n",
    "pd.options.display.float_format = '{:,.2f}'.format"
   ]
  },
  {
   "cell_type": "markdown",
   "id": "graduate-compensation",
   "metadata": {},
   "source": [
    "## IMPORTAR LOS DATOS"
   ]
  },
  {
   "cell_type": "markdown",
   "id": "38bb812b",
   "metadata": {},
   "source": [
    "Sustituir la ruta del proyecto."
   ]
  },
  {
   "cell_type": "code",
   "execution_count": 2,
   "id": "28c63848",
   "metadata": {},
   "outputs": [],
   "source": [
    "ruta_proyecto = 'C:/Usuarios/Alfredo/DS4B/Python DS Mastery/EstructuraDirectorio/03_MACHINE_LEARNING/07_CASOS/03_RIESGOS'"
   ]
  },
  {
   "cell_type": "markdown",
   "id": "ba473b09",
   "metadata": {},
   "source": [
    "Sustituir el nombre_fichero_datos."
   ]
  },
  {
   "cell_type": "code",
   "execution_count": 3,
   "id": "5d9dc5ea",
   "metadata": {},
   "outputs": [],
   "source": [
    "nombre_fichero_datos = 'trabajo.csv'"
   ]
  },
  {
   "cell_type": "markdown",
   "id": "ae75bf0b",
   "metadata": {},
   "source": [
    "Cargar los datos."
   ]
  },
  {
   "cell_type": "code",
   "execution_count": 4,
   "id": "24ff453b",
   "metadata": {},
   "outputs": [
    {
     "data": {
      "text/html": [
       "<div>\n",
       "<style scoped>\n",
       "    .dataframe tbody tr th:only-of-type {\n",
       "        vertical-align: middle;\n",
       "    }\n",
       "\n",
       "    .dataframe tbody tr th {\n",
       "        vertical-align: top;\n",
       "    }\n",
       "\n",
       "    .dataframe thead th {\n",
       "        text-align: right;\n",
       "    }\n",
       "</style>\n",
       "<table border=\"1\" class=\"dataframe\">\n",
       "  <thead>\n",
       "    <tr style=\"text-align: right;\">\n",
       "      <th></th>\n",
       "      <th>Unnamed: 0</th>\n",
       "      <th>empleo</th>\n",
       "      <th>antigüedad_empleo</th>\n",
       "      <th>ingresos</th>\n",
       "      <th>ingresos_verificados</th>\n",
       "      <th>rating</th>\n",
       "      <th>dti</th>\n",
       "      <th>vivienda</th>\n",
       "      <th>num_hipotecas</th>\n",
       "      <th>num_lineas_credito</th>\n",
       "      <th>...</th>\n",
       "      <th>id_prestamo</th>\n",
       "      <th>descripcion</th>\n",
       "      <th>finalidad</th>\n",
       "      <th>principal</th>\n",
       "      <th>tipo_interes</th>\n",
       "      <th>num_cuotas</th>\n",
       "      <th>imp_cuota</th>\n",
       "      <th>imp_amortizado</th>\n",
       "      <th>estado</th>\n",
       "      <th>imp_recuperado</th>\n",
       "    </tr>\n",
       "    <tr>\n",
       "      <th>id_cliente</th>\n",
       "      <th></th>\n",
       "      <th></th>\n",
       "      <th></th>\n",
       "      <th></th>\n",
       "      <th></th>\n",
       "      <th></th>\n",
       "      <th></th>\n",
       "      <th></th>\n",
       "      <th></th>\n",
       "      <th></th>\n",
       "      <th></th>\n",
       "      <th></th>\n",
       "      <th></th>\n",
       "      <th></th>\n",
       "      <th></th>\n",
       "      <th></th>\n",
       "      <th></th>\n",
       "      <th></th>\n",
       "      <th></th>\n",
       "      <th></th>\n",
       "      <th></th>\n",
       "    </tr>\n",
       "  </thead>\n",
       "  <tbody>\n",
       "    <tr>\n",
       "      <th>137387967</th>\n",
       "      <td>0</td>\n",
       "      <td>Hvac technician</td>\n",
       "      <td>3 years</td>\n",
       "      <td>54,000.00</td>\n",
       "      <td>Source Verified</td>\n",
       "      <td>A</td>\n",
       "      <td>19.31</td>\n",
       "      <td>MORTGAGE</td>\n",
       "      <td>2.00</td>\n",
       "      <td>10.00</td>\n",
       "      <td>...</td>\n",
       "      <td>NaN</td>\n",
       "      <td>NaN</td>\n",
       "      <td>debt_consolidation</td>\n",
       "      <td>15,000.00</td>\n",
       "      <td>7.21</td>\n",
       "      <td>36 months</td>\n",
       "      <td>464.60</td>\n",
       "      <td>2,669.06</td>\n",
       "      <td>Current</td>\n",
       "      <td>0.00</td>\n",
       "    </tr>\n",
       "    <tr>\n",
       "      <th>4798121</th>\n",
       "      <td>1</td>\n",
       "      <td>Target Promotions and Marketing,Inc</td>\n",
       "      <td>10+ years</td>\n",
       "      <td>65,000.00</td>\n",
       "      <td>Not Verified</td>\n",
       "      <td>D</td>\n",
       "      <td>25.40</td>\n",
       "      <td>RENT</td>\n",
       "      <td>1.00</td>\n",
       "      <td>15.00</td>\n",
       "      <td>...</td>\n",
       "      <td>NaN</td>\n",
       "      <td>NaN</td>\n",
       "      <td>debt_consolidation</td>\n",
       "      <td>10,000.00</td>\n",
       "      <td>17.77</td>\n",
       "      <td>36 months</td>\n",
       "      <td>360.38</td>\n",
       "      <td>6,362.96</td>\n",
       "      <td>Charged Off</td>\n",
       "      <td>0.00</td>\n",
       "    </tr>\n",
       "    <tr>\n",
       "      <th>87998444</th>\n",
       "      <td>3</td>\n",
       "      <td>executive director</td>\n",
       "      <td>9 years</td>\n",
       "      <td>188,000.00</td>\n",
       "      <td>Source Verified</td>\n",
       "      <td>B</td>\n",
       "      <td>11.69</td>\n",
       "      <td>MORTGAGE</td>\n",
       "      <td>3.00</td>\n",
       "      <td>15.00</td>\n",
       "      <td>...</td>\n",
       "      <td>NaN</td>\n",
       "      <td>NaN</td>\n",
       "      <td>credit_card</td>\n",
       "      <td>27,000.00</td>\n",
       "      <td>8.99</td>\n",
       "      <td>60 months</td>\n",
       "      <td>560.35</td>\n",
       "      <td>12,443.00</td>\n",
       "      <td>Current</td>\n",
       "      <td>0.00</td>\n",
       "    </tr>\n",
       "    <tr>\n",
       "      <th>132883631</th>\n",
       "      <td>4</td>\n",
       "      <td>Subsea Technician</td>\n",
       "      <td>7 years</td>\n",
       "      <td>125,000.00</td>\n",
       "      <td>Source Verified</td>\n",
       "      <td>B</td>\n",
       "      <td>9.00</td>\n",
       "      <td>MORTGAGE</td>\n",
       "      <td>1.00</td>\n",
       "      <td>6.00</td>\n",
       "      <td>...</td>\n",
       "      <td>NaN</td>\n",
       "      <td>NaN</td>\n",
       "      <td>debt_consolidation</td>\n",
       "      <td>22,000.00</td>\n",
       "      <td>10.90</td>\n",
       "      <td>36 months</td>\n",
       "      <td>719.22</td>\n",
       "      <td>22,000.00</td>\n",
       "      <td>Fully Paid</td>\n",
       "      <td>0.00</td>\n",
       "    </tr>\n",
       "    <tr>\n",
       "      <th>77861711</th>\n",
       "      <td>6</td>\n",
       "      <td>Correctional officer</td>\n",
       "      <td>10+ years</td>\n",
       "      <td>50,000.00</td>\n",
       "      <td>Verified</td>\n",
       "      <td>C</td>\n",
       "      <td>29.31</td>\n",
       "      <td>MORTGAGE</td>\n",
       "      <td>1.00</td>\n",
       "      <td>8.00</td>\n",
       "      <td>...</td>\n",
       "      <td>NaN</td>\n",
       "      <td>NaN</td>\n",
       "      <td>debt_consolidation</td>\n",
       "      <td>14,400.00</td>\n",
       "      <td>15.31</td>\n",
       "      <td>36 months</td>\n",
       "      <td>501.37</td>\n",
       "      <td>2,310.49</td>\n",
       "      <td>Charged Off</td>\n",
       "      <td>6,430.36</td>\n",
       "    </tr>\n",
       "    <tr>\n",
       "      <th>...</th>\n",
       "      <td>...</td>\n",
       "      <td>...</td>\n",
       "      <td>...</td>\n",
       "      <td>...</td>\n",
       "      <td>...</td>\n",
       "      <td>...</td>\n",
       "      <td>...</td>\n",
       "      <td>...</td>\n",
       "      <td>...</td>\n",
       "      <td>...</td>\n",
       "      <td>...</td>\n",
       "      <td>...</td>\n",
       "      <td>...</td>\n",
       "      <td>...</td>\n",
       "      <td>...</td>\n",
       "      <td>...</td>\n",
       "      <td>...</td>\n",
       "      <td>...</td>\n",
       "      <td>...</td>\n",
       "      <td>...</td>\n",
       "      <td>...</td>\n",
       "    </tr>\n",
       "    <tr>\n",
       "      <th>129396054</th>\n",
       "      <td>199993</td>\n",
       "      <td>Field Manager</td>\n",
       "      <td>10+ years</td>\n",
       "      <td>55,000.00</td>\n",
       "      <td>Source Verified</td>\n",
       "      <td>D</td>\n",
       "      <td>15.36</td>\n",
       "      <td>OWN</td>\n",
       "      <td>1.00</td>\n",
       "      <td>7.00</td>\n",
       "      <td>...</td>\n",
       "      <td>NaN</td>\n",
       "      <td>NaN</td>\n",
       "      <td>debt_consolidation</td>\n",
       "      <td>14,400.00</td>\n",
       "      <td>17.47</td>\n",
       "      <td>60 months</td>\n",
       "      <td>361.53</td>\n",
       "      <td>1,975.94</td>\n",
       "      <td>Current</td>\n",
       "      <td>0.00</td>\n",
       "    </tr>\n",
       "    <tr>\n",
       "      <th>119242742</th>\n",
       "      <td>199994</td>\n",
       "      <td>NaN</td>\n",
       "      <td>NaN</td>\n",
       "      <td>20,000.00</td>\n",
       "      <td>Source Verified</td>\n",
       "      <td>C</td>\n",
       "      <td>8.02</td>\n",
       "      <td>RENT</td>\n",
       "      <td>0.00</td>\n",
       "      <td>5.00</td>\n",
       "      <td>...</td>\n",
       "      <td>NaN</td>\n",
       "      <td>NaN</td>\n",
       "      <td>debt_consolidation</td>\n",
       "      <td>2,500.00</td>\n",
       "      <td>12.62</td>\n",
       "      <td>36 months</td>\n",
       "      <td>83.78</td>\n",
       "      <td>996.06</td>\n",
       "      <td>Late (31-120 days)</td>\n",
       "      <td>0.00</td>\n",
       "    </tr>\n",
       "    <tr>\n",
       "      <th>51876926</th>\n",
       "      <td>199995</td>\n",
       "      <td>Office Manager</td>\n",
       "      <td>10+ years</td>\n",
       "      <td>42,000.00</td>\n",
       "      <td>Not Verified</td>\n",
       "      <td>C</td>\n",
       "      <td>20.85</td>\n",
       "      <td>MORTGAGE</td>\n",
       "      <td>6.00</td>\n",
       "      <td>9.00</td>\n",
       "      <td>...</td>\n",
       "      <td>NaN</td>\n",
       "      <td>NaN</td>\n",
       "      <td>debt_consolidation</td>\n",
       "      <td>8,000.00</td>\n",
       "      <td>12.29</td>\n",
       "      <td>36 months</td>\n",
       "      <td>266.83</td>\n",
       "      <td>8,000.00</td>\n",
       "      <td>Fully Paid</td>\n",
       "      <td>0.00</td>\n",
       "    </tr>\n",
       "    <tr>\n",
       "      <th>53664762</th>\n",
       "      <td>199998</td>\n",
       "      <td>Attorney</td>\n",
       "      <td>8 years</td>\n",
       "      <td>168,000.00</td>\n",
       "      <td>Source Verified</td>\n",
       "      <td>E</td>\n",
       "      <td>4.69</td>\n",
       "      <td>RENT</td>\n",
       "      <td>0.00</td>\n",
       "      <td>8.00</td>\n",
       "      <td>...</td>\n",
       "      <td>NaN</td>\n",
       "      <td>NaN</td>\n",
       "      <td>small_business</td>\n",
       "      <td>30,050.00</td>\n",
       "      <td>18.25</td>\n",
       "      <td>60 months</td>\n",
       "      <td>767.17</td>\n",
       "      <td>2,964.44</td>\n",
       "      <td>Charged Off</td>\n",
       "      <td>2,750.88</td>\n",
       "    </tr>\n",
       "    <tr>\n",
       "      <th>94394801</th>\n",
       "      <td>199999</td>\n",
       "      <td>NaN</td>\n",
       "      <td>NaN</td>\n",
       "      <td>80,000.00</td>\n",
       "      <td>Not Verified</td>\n",
       "      <td>C</td>\n",
       "      <td>31.49</td>\n",
       "      <td>MORTGAGE</td>\n",
       "      <td>1.00</td>\n",
       "      <td>9.00</td>\n",
       "      <td>...</td>\n",
       "      <td>NaN</td>\n",
       "      <td>NaN</td>\n",
       "      <td>debt_consolidation</td>\n",
       "      <td>10,000.00</td>\n",
       "      <td>13.99</td>\n",
       "      <td>36 months</td>\n",
       "      <td>341.73</td>\n",
       "      <td>7,096.40</td>\n",
       "      <td>Current</td>\n",
       "      <td>0.00</td>\n",
       "    </tr>\n",
       "  </tbody>\n",
       "</table>\n",
       "<p>140000 rows × 25 columns</p>\n",
       "</div>"
      ],
      "text/plain": [
       "            Unnamed: 0                               empleo antigüedad_empleo  \\\n",
       "id_cliente                                                                      \n",
       "137387967            0                     Hvac technician            3 years   \n",
       "4798121              1  Target Promotions and Marketing,Inc         10+ years   \n",
       "87998444             3                   executive director           9 years   \n",
       "132883631            4                    Subsea Technician           7 years   \n",
       "77861711             6                 Correctional officer         10+ years   \n",
       "...                ...                                  ...               ...   \n",
       "129396054       199993                        Field Manager         10+ years   \n",
       "119242742       199994                                  NaN               NaN   \n",
       "51876926        199995                       Office Manager         10+ years   \n",
       "53664762        199998                             Attorney           8 years   \n",
       "94394801        199999                                  NaN               NaN   \n",
       "\n",
       "             ingresos ingresos_verificados rating   dti  vivienda  \\\n",
       "id_cliente                                                          \n",
       "137387967   54,000.00      Source Verified      A 19.31  MORTGAGE   \n",
       "4798121     65,000.00         Not Verified      D 25.40      RENT   \n",
       "87998444   188,000.00      Source Verified      B 11.69  MORTGAGE   \n",
       "132883631  125,000.00      Source Verified      B  9.00  MORTGAGE   \n",
       "77861711    50,000.00             Verified      C 29.31  MORTGAGE   \n",
       "...               ...                  ...    ...   ...       ...   \n",
       "129396054   55,000.00      Source Verified      D 15.36       OWN   \n",
       "119242742   20,000.00      Source Verified      C  8.02      RENT   \n",
       "51876926    42,000.00         Not Verified      C 20.85  MORTGAGE   \n",
       "53664762   168,000.00      Source Verified      E  4.69      RENT   \n",
       "94394801    80,000.00         Not Verified      C 31.49  MORTGAGE   \n",
       "\n",
       "            num_hipotecas  num_lineas_credito  ...  id_prestamo  descripcion  \\\n",
       "id_cliente                                     ...                             \n",
       "137387967            2.00               10.00  ...          NaN          NaN   \n",
       "4798121              1.00               15.00  ...          NaN          NaN   \n",
       "87998444             3.00               15.00  ...          NaN          NaN   \n",
       "132883631            1.00                6.00  ...          NaN          NaN   \n",
       "77861711             1.00                8.00  ...          NaN          NaN   \n",
       "...                   ...                 ...  ...          ...          ...   \n",
       "129396054            1.00                7.00  ...          NaN          NaN   \n",
       "119242742            0.00                5.00  ...          NaN          NaN   \n",
       "51876926             6.00                9.00  ...          NaN          NaN   \n",
       "53664762             0.00                8.00  ...          NaN          NaN   \n",
       "94394801             1.00                9.00  ...          NaN          NaN   \n",
       "\n",
       "                     finalidad  principal  tipo_interes  num_cuotas imp_cuota  \\\n",
       "id_cliente                                                                      \n",
       "137387967   debt_consolidation  15,000.00          7.21   36 months    464.60   \n",
       "4798121     debt_consolidation  10,000.00         17.77   36 months    360.38   \n",
       "87998444           credit_card  27,000.00          8.99   60 months    560.35   \n",
       "132883631   debt_consolidation  22,000.00         10.90   36 months    719.22   \n",
       "77861711    debt_consolidation  14,400.00         15.31   36 months    501.37   \n",
       "...                        ...        ...           ...         ...       ...   \n",
       "129396054   debt_consolidation  14,400.00         17.47   60 months    361.53   \n",
       "119242742   debt_consolidation   2,500.00         12.62   36 months     83.78   \n",
       "51876926    debt_consolidation   8,000.00         12.29   36 months    266.83   \n",
       "53664762        small_business  30,050.00         18.25   60 months    767.17   \n",
       "94394801    debt_consolidation  10,000.00         13.99   36 months    341.73   \n",
       "\n",
       "           imp_amortizado              estado  imp_recuperado  \n",
       "id_cliente                                                     \n",
       "137387967        2,669.06             Current            0.00  \n",
       "4798121          6,362.96         Charged Off            0.00  \n",
       "87998444        12,443.00             Current            0.00  \n",
       "132883631       22,000.00          Fully Paid            0.00  \n",
       "77861711         2,310.49         Charged Off        6,430.36  \n",
       "...                   ...                 ...             ...  \n",
       "129396054        1,975.94             Current            0.00  \n",
       "119242742          996.06  Late (31-120 days)            0.00  \n",
       "51876926         8,000.00          Fully Paid            0.00  \n",
       "53664762         2,964.44         Charged Off        2,750.88  \n",
       "94394801         7,096.40             Current            0.00  \n",
       "\n",
       "[140000 rows x 25 columns]"
      ]
     },
     "execution_count": 4,
     "metadata": {},
     "output_type": "execute_result"
    }
   ],
   "source": [
    "ruta_completa = ruta_proyecto + '/02_Datos/03_Trabajo/' + nombre_fichero_datos\n",
    "\n",
    "df = pd.read_csv(ruta_completa,index_col='id_cliente')\n",
    "df"
   ]
  },
  {
   "cell_type": "markdown",
   "id": "d2d5443c",
   "metadata": {},
   "source": [
    "## VISIÓN GENERAL"
   ]
  },
  {
   "cell_type": "code",
   "execution_count": 5,
   "id": "976c8ac6",
   "metadata": {
    "scrolled": true
   },
   "outputs": [
    {
     "name": "stdout",
     "output_type": "stream",
     "text": [
      "<class 'pandas.core.frame.DataFrame'>\n",
      "Int64Index: 140000 entries, 137387967 to 94394801\n",
      "Data columns (total 25 columns):\n",
      " #   Column                       Non-Null Count   Dtype  \n",
      "---  ------                       --------------   -----  \n",
      " 0   Unnamed: 0                   140000 non-null  int64  \n",
      " 1   empleo                       129699 non-null  object \n",
      " 2   antigüedad_empleo            130974 non-null  object \n",
      " 3   ingresos                     140000 non-null  float64\n",
      " 4   ingresos_verificados         140000 non-null  object \n",
      " 5   rating                       140000 non-null  object \n",
      " 6   dti                          139901 non-null  float64\n",
      " 7   vivienda                     140000 non-null  object \n",
      " 8   num_hipotecas                136889 non-null  float64\n",
      " 9   num_lineas_credito           139998 non-null  float64\n",
      " 10  porc_tarjetas_75p            135351 non-null  float64\n",
      " 11  porc_uso_revolving           139896 non-null  float64\n",
      " 12  num_cancelaciones_12meses    139990 non-null  float64\n",
      " 13  num_derogatorios             139998 non-null  float64\n",
      " 14  num_meses_desde_ult_retraso  67973 non-null   float64\n",
      " 15  id_prestamo                  0 non-null       float64\n",
      " 16  descripcion                  7814 non-null    object \n",
      " 17  finalidad                    140000 non-null  object \n",
      " 18  principal                    140000 non-null  float64\n",
      " 19  tipo_interes                 140000 non-null  float64\n",
      " 20  num_cuotas                   140000 non-null  object \n",
      " 21  imp_cuota                    140000 non-null  float64\n",
      " 22  imp_amortizado               140000 non-null  float64\n",
      " 23  estado                       140000 non-null  object \n",
      " 24  imp_recuperado               140000 non-null  float64\n",
      "dtypes: float64(15), int64(1), object(9)\n",
      "memory usage: 27.8+ MB\n"
     ]
    }
   ],
   "source": [
    "df.info()"
   ]
  },
  {
   "cell_type": "markdown",
   "id": "e96f1c4e",
   "metadata": {},
   "source": [
    "### Corrección"
   ]
  },
  {
   "cell_type": "markdown",
   "id": "dea3f8ac",
   "metadata": {},
   "source": [
    "Eliminar la variable Unnamed: 0. Todo hace indicar que solamente es un nro secuencial"
   ]
  },
  {
   "cell_type": "code",
   "execution_count": 6,
   "id": "94cccc38",
   "metadata": {},
   "outputs": [],
   "source": [
    "df.drop(columns='Unnamed: 0',inplace=True)"
   ]
  },
  {
   "cell_type": "markdown",
   "id": "158ee1d7",
   "metadata": {},
   "source": [
    "## TIPOS DE DATOS"
   ]
  },
  {
   "cell_type": "markdown",
   "id": "88162727",
   "metadata": {},
   "source": [
    "### Identificación"
   ]
  },
  {
   "cell_type": "code",
   "execution_count": 7,
   "id": "197a99c2",
   "metadata": {
    "scrolled": false
   },
   "outputs": [
    {
     "data": {
      "text/plain": [
       "empleo                          object\n",
       "antigüedad_empleo               object\n",
       "ingresos                       float64\n",
       "ingresos_verificados            object\n",
       "rating                          object\n",
       "dti                            float64\n",
       "vivienda                        object\n",
       "num_hipotecas                  float64\n",
       "num_lineas_credito             float64\n",
       "porc_tarjetas_75p              float64\n",
       "porc_uso_revolving             float64\n",
       "num_cancelaciones_12meses      float64\n",
       "num_derogatorios               float64\n",
       "num_meses_desde_ult_retraso    float64\n",
       "id_prestamo                    float64\n",
       "descripcion                     object\n",
       "finalidad                       object\n",
       "principal                      float64\n",
       "tipo_interes                   float64\n",
       "num_cuotas                      object\n",
       "imp_cuota                      float64\n",
       "imp_amortizado                 float64\n",
       "estado                          object\n",
       "imp_recuperado                 float64\n",
       "dtype: object"
      ]
     },
     "execution_count": 7,
     "metadata": {},
     "output_type": "execute_result"
    }
   ],
   "source": [
    "df.dtypes"
   ]
  },
  {
   "cell_type": "markdown",
   "id": "f29bc3fb",
   "metadata": {},
   "source": [
    "Conclusiones:\n",
    "\n",
    "* Todo correcto en cuanto a tipo de datos"
   ]
  },
  {
   "cell_type": "markdown",
   "id": "cc8d4a22",
   "metadata": {},
   "source": [
    "## VALORES ÚNICOS"
   ]
  },
  {
   "cell_type": "markdown",
   "id": "f21f0e36",
   "metadata": {},
   "source": [
    "### Identificación"
   ]
  },
  {
   "cell_type": "code",
   "execution_count": 10,
   "id": "6e53e444",
   "metadata": {
    "scrolled": true
   },
   "outputs": [
    {
     "data": {
      "text/plain": [
       "id_prestamo                        0\n",
       "num_cuotas                         2\n",
       "ingresos_verificados               3\n",
       "vivienda                           6\n",
       "num_cancelaciones_12meses          7\n",
       "rating                             7\n",
       "estado                             9\n",
       "antigüedad_empleo                 11\n",
       "finalidad                         14\n",
       "num_derogatorios                  20\n",
       "num_hipotecas                     25\n",
       "num_lineas_credito                62\n",
       "num_meses_desde_ult_retraso      132\n",
       "porc_tarjetas_75p                166\n",
       "tipo_interes                     587\n",
       "porc_uso_revolving              1102\n",
       "principal                       1467\n",
       "dti                             5280\n",
       "descripcion                     7793\n",
       "imp_recuperado                 10512\n",
       "ingresos                       11624\n",
       "imp_cuota                      33572\n",
       "empleo                         54464\n",
       "imp_amortizado                 57707\n",
       "dtype: int64"
      ]
     },
     "execution_count": 10,
     "metadata": {},
     "output_type": "execute_result"
    }
   ],
   "source": [
    "df.nunique().sort_values()"
   ]
  },
  {
   "cell_type": "markdown",
   "id": "a1106594",
   "metadata": {},
   "source": [
    "Conclusiones:\n",
    "\n",
    "* id_prestamo con menos de 2 valores --> eliminar"
   ]
  },
  {
   "cell_type": "markdown",
   "id": "b1d1a668",
   "metadata": {},
   "source": [
    "### Corrección"
   ]
  },
  {
   "cell_type": "code",
   "execution_count": 11,
   "id": "62f7d14e",
   "metadata": {},
   "outputs": [],
   "source": [
    "df.drop(columns = 'id_prestamo', inplace = True)"
   ]
  },
  {
   "cell_type": "markdown",
   "id": "e25cfc89",
   "metadata": {},
   "source": [
    "## DUPLICADOS"
   ]
  },
  {
   "cell_type": "markdown",
   "id": "8a079ed3",
   "metadata": {},
   "source": [
    "### Identificación"
   ]
  },
  {
   "cell_type": "code",
   "execution_count": 12,
   "id": "f5b23bfc",
   "metadata": {
    "scrolled": true
   },
   "outputs": [
    {
     "data": {
      "text/plain": [
       "0"
      ]
     },
     "execution_count": 12,
     "metadata": {},
     "output_type": "execute_result"
    }
   ],
   "source": [
    "df.duplicated().sum()"
   ]
  },
  {
   "cell_type": "markdown",
   "id": "7b5acbb4",
   "metadata": {},
   "source": [
    "No hay duplicados"
   ]
  },
  {
   "cell_type": "markdown",
   "id": "632ec2cd",
   "metadata": {},
   "source": [
    "## SEPARAR NUMÉRICAS Y CATEGÓRICAS"
   ]
  },
  {
   "cell_type": "markdown",
   "id": "573a61ac",
   "metadata": {},
   "source": [
    "### Categóricas"
   ]
  },
  {
   "cell_type": "code",
   "execution_count": 13,
   "id": "47a7eece",
   "metadata": {},
   "outputs": [],
   "source": [
    "cat = df.select_dtypes(exclude = 'number').copy()"
   ]
  },
  {
   "cell_type": "markdown",
   "id": "41756893",
   "metadata": {},
   "source": [
    "### Numéricas"
   ]
  },
  {
   "cell_type": "code",
   "execution_count": 14,
   "id": "59140e9a",
   "metadata": {},
   "outputs": [],
   "source": [
    "num = df.select_dtypes(include='number').copy()"
   ]
  },
  {
   "cell_type": "markdown",
   "id": "5e7d8e7e",
   "metadata": {},
   "source": [
    "## GESTIÓN DE CATEGÓRICAS"
   ]
  },
  {
   "cell_type": "markdown",
   "id": "5b5808b7",
   "metadata": {},
   "source": [
    "### Nulos"
   ]
  },
  {
   "cell_type": "markdown",
   "id": "5c08ca55",
   "metadata": {},
   "source": [
    "#### Identificación"
   ]
  },
  {
   "cell_type": "code",
   "execution_count": 15,
   "id": "da49ae63",
   "metadata": {
    "scrolled": true
   },
   "outputs": [
    {
     "data": {
      "text/plain": [
       "descripcion             132186\n",
       "empleo                   10301\n",
       "antigüedad_empleo         9026\n",
       "ingresos_verificados         0\n",
       "rating                       0\n",
       "vivienda                     0\n",
       "finalidad                    0\n",
       "num_cuotas                   0\n",
       "estado                       0\n",
       "dtype: int64"
      ]
     },
     "execution_count": 15,
     "metadata": {},
     "output_type": "execute_result"
    }
   ],
   "source": [
    "cat.isna().sum().sort_values(ascending = False)"
   ]
  },
  {
   "cell_type": "code",
   "execution_count": 16,
   "id": "b95992ce",
   "metadata": {},
   "outputs": [
    {
     "data": {
      "text/plain": [
       "NaN                                                                                                                                                                                                                                                                                                                                                                                                                                                                                                                                                                                                                                                                                                                                                                                                                                                                                                                                                                                                                                                                                                                                                                                                                                                                                                                                                                                                                                                                                                                                                                                                                                                                                                                                                     132186\n",
       "                                                                                                                                                                                                                                                                                                                                                                                                                                                                                                                                                                                                                                                                                                                                                                                                                                                                                                                                                                                                                                                                                                                                                                                                                                                                                                                                                                                                                                                                                                                                                                                                                                                                                                                                                            12\n",
       "Debt Consolidation                                                                                                                                                                                                                                                                                                                                                                                                                                                                                                                                                                                                                                                                                                                                                                                                                                                                                                                                                                                                                                                                                                                                                                                                                                                                                                                                                                                                                                                                                                                                                                                                                                                                                                                                           2\n",
       "  Borrower added on 01/15/13 > Debt consolidation<br>                                                                                                                                                                                                                                                                                                                                                                                                                                                                                                                                                                                                                                                                                                                                                                                                                                                                                                                                                                                                                                                                                                                                                                                                                                                                                                                                                                                                                                                                                                                                                                                                                                                                                                        2\n",
       "credit card debt consolidation                                                                                                                                                                                                                                                                                                                                                                                                                                                                                                                                                                                                                                                                                                                                                                                                                                                                                                                                                                                                                                                                                                                                                                                                                                                                                                                                                                                                                                                                                                                                                                                                                                                                                                                               2\n",
       "                                                                                                                                                                                                                                                                                                                                                                                                                                                                                                                                                                                                                                                                                                                                                                                                                                                                                                                                                                                                                                                                                                                                                                                                                                                                                                                                                                                                                                                                                                                                                                                                                                                                                                                                                         ...  \n",
       "  Borrower added on 05/14/10 > First, let me say that, I am a hard worker in a very secure job. I always make my payments early and I value my good credit. I'm a single mom of two teens, one of which, I managed to put through her first year of college, despite her economy emptied college fund. Generally, I live well within my means and can save for the future. About a year and a half ago, not long after I purchased my home, a series of events began that I thought I could deal with and still keep everything going ok. Taxes increased my monthly house payment by $200 until the end of this year when there will be enough in escrow. Child support and anything in arrears ceased about three years ago. Work had a changing of the guard and all overtime came to a screeching halt while the new president was assessing. The combination of these things impeding my cash flow along with major car repairs and a huge dental bill, I have found myself using a credit card with 27% interest to make ends meet.  This loan will allow me to reduce my budget by $350/month and reduce my bills from 6 high interest ones to 3 low ones.  Work is almost back to normal now and college this year will be paid by federal funding now that we qualify. Things are looking up and with your help I can get back to normal and start saving again<br/> Borrower added on 05/24/10 > I will you have the LC (lending club) loan automatically withdrawn from my account? Just to let investors know, should something ever happen to my job, I would use my 401k to pay off my loan payment. Years and years ago, with other companies, I have been laid off and I still maintained my payments and good credit standing.<br/>         1\n",
       "  Borrower added on 10/30/12 > to clean up the passed mess<br>                                                                                                                                                                                                                                                                                                                                                                                                                                                                                                                                                                                                                                                                                                                                                                                                                                                                                                                                                                                                                                                                                                                                                                                                                                                                                                                                                                                                                                                                                                                                                                                                                                                                                               1\n",
       "  Borrower added on 07/30/12 > Intend to pay off all remaining high APR credit cards and only have one lower interest rate payment.<br>                                                                                                                                                                                                                                                                                                                                                                                                                                                                                                                                                                                                                                                                                                                                                                                                                                                                                                                                                                                                                                                                                                                                                                                                                                                                                                                                                                                                                                                                                                                                                                                                                      1\n",
       "  Borrower added on 12/03/10 > Looking to repair roof and add insulation.  Just paid down a big chunk of revolving debt before roof issue began.  Such is life!<br/> Borrower added on 12/03/10 > I have a 750+ score and a 100% on-time payment record.  My revolving credit will be reduced significantly in the near future.<br/>                                                                                                                                                                                                                                                                                                                                                                                                                                                                                                                                                                                                                                                                                                                                                                                                                                                                                                                                                                                                                                                                                                                                                                                                                                                                                                                                                                                                                         1\n",
       "  Borrower added on 11/01/11 > Looking to use this loan to repay my large credit card debits.  I have always paid all of my debt payments on time, and am trying to get out from underneath all of this credit card debt now.  I have an extremely safe job as I work for a very conservative international mutual fund company, which I have been employed by for 5 years now.  Please let me know if you would like any further information about this loan.<br/><br/>Thanks!<br/>                                                                                                                                                                                                                                                                                                                                                                                                                                                                                                                                                                                                                                                                                                                                                                                                                                                                                                                                                                                                                                                                                                                                                                                                                                                                         1\n",
       "Name: descripcion, Length: 7794, dtype: int64"
      ]
     },
     "execution_count": 16,
     "metadata": {},
     "output_type": "execute_result"
    }
   ],
   "source": [
    "cat.descripcion.value_counts(dropna=False)"
   ]
  },
  {
   "cell_type": "markdown",
   "id": "7db64cda",
   "metadata": {},
   "source": [
    "La variable \"descripcion\" parece ser un campo libre de texto. Por ahora no la vamos a usar"
   ]
  },
  {
   "cell_type": "code",
   "execution_count": 17,
   "id": "d3b9f1e7",
   "metadata": {},
   "outputs": [
    {
     "data": {
      "text/plain": [
       "NaN                             10301\n",
       "Teacher                          2476\n",
       "Manager                          2224\n",
       "Owner                            1383\n",
       "Registered Nurse                 1001\n",
       "                                ...  \n",
       "Production Tool & Technology        1\n",
       "Operation supervisor                1\n",
       "Sr Pastor                           1\n",
       "Allocation Planner                  1\n",
       "SERGEANT FIRST CLASS                1\n",
       "Name: empleo, Length: 54465, dtype: int64"
      ]
     },
     "execution_count": 17,
     "metadata": {},
     "output_type": "execute_result"
    }
   ],
   "source": [
    "cat.empleo.value_counts(dropna=False)"
   ]
  },
  {
   "cell_type": "markdown",
   "id": "94af2b5a",
   "metadata": {},
   "source": [
    "La variable empleo tiene 10301 nulos de 140000 registros totales. Si bien es la mayoritaria, es menos del 10%. Tampoco parece lógico imputarla a la moda. "
   ]
  },
  {
   "cell_type": "code",
   "execution_count": 19,
   "id": "cac1218b",
   "metadata": {},
   "outputs": [
    {
     "data": {
      "text/plain": [
       "10+ years    46163\n",
       "2 years      12549\n",
       "< 1 year     11757\n",
       "3 years      11258\n",
       "1 year        9165\n",
       "NaN           9026\n",
       "5 years       8708\n",
       "4 years       8604\n",
       "6 years       6329\n",
       "7 years       5766\n",
       "8 years       5655\n",
       "9 years       5020\n",
       "Name: antigüedad_empleo, dtype: int64"
      ]
     },
     "execution_count": 19,
     "metadata": {},
     "output_type": "execute_result"
    }
   ],
   "source": [
    "cat.antigüedad_empleo.value_counts(dropna=False)"
   ]
  },
  {
   "cell_type": "markdown",
   "id": "4c4da150",
   "metadata": {},
   "source": [
    "Estos nulos pueden estar relacionados a los nulos de la variable empleo, por tanto tampoco la voy a imputar por la moda"
   ]
  },
  {
   "cell_type": "markdown",
   "id": "45ca2193",
   "metadata": {},
   "source": [
    "Conclusiones:\n",
    "\n",
    "* sustituir todas por valor 'desconocido'"
   ]
  },
  {
   "cell_type": "markdown",
   "id": "6802d575",
   "metadata": {},
   "source": [
    "#### Corrección"
   ]
  },
  {
   "cell_type": "markdown",
   "id": "ebeb52a6",
   "metadata": {},
   "source": [
    "##### Imputar por un valor"
   ]
  },
  {
   "cell_type": "markdown",
   "id": "2cba1c3c",
   "metadata": {},
   "source": [
    "###### Variables a imputar"
   ]
  },
  {
   "cell_type": "code",
   "execution_count": 20,
   "id": "4050ef9f",
   "metadata": {},
   "outputs": [],
   "source": [
    "var_imputar_desconocido = ['descripcion','empleo','antigüedad_empleo']"
   ]
  },
  {
   "cell_type": "markdown",
   "id": "78d10252",
   "metadata": {},
   "source": [
    "###### Imputar"
   ]
  },
  {
   "cell_type": "code",
   "execution_count": 21,
   "id": "f16e8491",
   "metadata": {},
   "outputs": [],
   "source": [
    "cat[var_imputar_desconocido] = cat[var_imputar_desconocido].fillna('desconocido')"
   ]
  },
  {
   "cell_type": "markdown",
   "id": "db3a72a6",
   "metadata": {},
   "source": [
    "## GESTIÓN DE NUMÉRICAS"
   ]
  },
  {
   "cell_type": "markdown",
   "id": "d65bd06a",
   "metadata": {},
   "source": [
    "### Nulos"
   ]
  },
  {
   "cell_type": "markdown",
   "id": "e5ee8416",
   "metadata": {},
   "source": [
    "#### Identificación"
   ]
  },
  {
   "cell_type": "code",
   "execution_count": 22,
   "id": "c9f054a3",
   "metadata": {
    "scrolled": true
   },
   "outputs": [
    {
     "data": {
      "text/plain": [
       "num_meses_desde_ult_retraso    72027\n",
       "porc_tarjetas_75p               4649\n",
       "num_hipotecas                   3111\n",
       "porc_uso_revolving               104\n",
       "dti                               99\n",
       "num_cancelaciones_12meses         10\n",
       "num_lineas_credito                 2\n",
       "num_derogatorios                   2\n",
       "ingresos                           0\n",
       "principal                          0\n",
       "tipo_interes                       0\n",
       "imp_cuota                          0\n",
       "imp_amortizado                     0\n",
       "imp_recuperado                     0\n",
       "dtype: int64"
      ]
     },
     "execution_count": 22,
     "metadata": {},
     "output_type": "execute_result"
    }
   ],
   "source": [
    "num.isna().sum().sort_values(ascending = False)"
   ]
  },
  {
   "cell_type": "markdown",
   "id": "a043a2e8",
   "metadata": {},
   "source": [
    "Veamoslas con más detalle."
   ]
  },
  {
   "cell_type": "code",
   "execution_count": 23,
   "id": "aa5112af",
   "metadata": {},
   "outputs": [
    {
     "data": {
      "image/png": "[encoded data removed]",
      "text/plain": [
       "<Figure size 864x432 with 1 Axes>"
      ]
     },
     "metadata": {
      "needs_background": "light"
     },
     "output_type": "display_data"
    }
   ],
   "source": [
    "num.num_meses_desde_ult_retraso.value_counts().sort_index().plot.bar(figsize = (12,6));"
   ]
  },
  {
   "cell_type": "code",
   "execution_count": 26,
   "id": "72f7a619",
   "metadata": {},
   "outputs": [
    {
     "data": {
      "text/plain": [
       "Fully Paid                                             91\n",
       "Current                                                39\n",
       "Charged Off                                            26\n",
       "Does not meet the credit policy. Status:Charged Off    13\n",
       "Does not meet the credit policy. Status:Fully Paid     12\n",
       "Late (31-120 days)                                      2\n",
       "Name: estado, dtype: int64"
      ]
     },
     "execution_count": 26,
     "metadata": {},
     "output_type": "execute_result"
    }
   ],
   "source": [
    "df.estado[df.num_meses_desde_ult_retraso == 0].value_counts()"
   ]
  },
  {
   "cell_type": "code",
   "execution_count": 27,
   "id": "9f200823",
   "metadata": {},
   "outputs": [
    {
     "data": {
      "text/plain": [
       "Fully Paid                                             33943\n",
       "Current                                                28898\n",
       "Charged Off                                             8096\n",
       "Late (31-120 days)                                       661\n",
       "In Grace Period                                          219\n",
       "Late (16-30 days)                                        127\n",
       "Does not meet the credit policy. Status:Fully Paid        60\n",
       "Does not meet the credit policy. Status:Charged Off       22\n",
       "Default                                                    1\n",
       "Name: estado, dtype: int64"
      ]
     },
     "execution_count": 27,
     "metadata": {},
     "output_type": "execute_result"
    }
   ],
   "source": [
    "df.estado[df.num_meses_desde_ult_retraso.isna()].value_counts()"
   ]
  },
  {
   "cell_type": "markdown",
   "id": "7e2ff55b",
   "metadata": {},
   "source": [
    "Hay ceros, pero parecen pocos para una variable que implica retrasos y se supone que es la que corresponde a la mayoría de los casos (la mayoría no entra en impago -Fully Paid o Current-).\n",
    "\n",
    "Así que vamos a pensar que los nulos significan que no ha habido retrasos.\n",
    "\n",
    "Y por tanto imputar por ceros."
   ]
  },
  {
   "cell_type": "code",
   "execution_count": 28,
   "id": "2873ee93",
   "metadata": {},
   "outputs": [
    {
     "data": {
      "image/png": "[encoded data removed]",
      "text/plain": [
       "<Figure size 864x432 with 1 Axes>"
      ]
     },
     "metadata": {
      "needs_background": "light"
     },
     "output_type": "display_data"
    }
   ],
   "source": [
    "num.porc_tarjetas_75p.value_counts().sort_index().plot.bar(figsize = (12,6));"
   ]
  },
  {
   "cell_type": "markdown",
   "id": "1bff94a6",
   "metadata": {},
   "source": [
    "La categoría mayoritaria es cero.\n",
    "\n",
    "Imputaremos por cero."
   ]
  },
  {
   "cell_type": "code",
   "execution_count": 29,
   "id": "e0bb1a4a",
   "metadata": {},
   "outputs": [
    {
     "data": {
      "image/png": "[encoded data removed]",
      "text/plain": [
       "<Figure size 864x432 with 1 Axes>"
      ]
     },
     "metadata": {
      "needs_background": "light"
     },
     "output_type": "display_data"
    }
   ],
   "source": [
    "num.num_hipotecas.value_counts().sort_index().plot.bar(figsize = (12,6));"
   ]
  },
  {
   "cell_type": "markdown",
   "id": "d0269d6c",
   "metadata": {},
   "source": [
    "La categoría mayoritaria es cero.\n",
    "\n",
    "Imputaremos por cero."
   ]
  },
  {
   "cell_type": "markdown",
   "id": "750b3940",
   "metadata": {},
   "source": [
    "Conclusiones:\n",
    "\n",
    "* imputar todas por ceros"
   ]
  },
  {
   "cell_type": "markdown",
   "id": "562eea7f",
   "metadata": {},
   "source": [
    "#### Corrección"
   ]
  },
  {
   "cell_type": "code",
   "execution_count": 30,
   "id": "37d7e0d9",
   "metadata": {},
   "outputs": [],
   "source": [
    "num.fillna(0,inplace=True)"
   ]
  },
  {
   "cell_type": "markdown",
   "id": "82cb56e8",
   "metadata": {},
   "source": [
    "### Atípicos"
   ]
  },
  {
   "cell_type": "markdown",
   "id": "760baf8c",
   "metadata": {},
   "source": [
    "#### Por desviación típica"
   ]
  },
  {
   "cell_type": "markdown",
   "id": "4b508149",
   "metadata": {},
   "source": [
    "##### Identificación"
   ]
  },
  {
   "cell_type": "markdown",
   "id": "8ceda3d3",
   "metadata": {},
   "source": [
    "###### Definir el número de desviaciones típicas"
   ]
  },
  {
   "cell_type": "code",
   "execution_count": 31,
   "id": "2b7419cb",
   "metadata": {},
   "outputs": [],
   "source": [
    "num_desv_tip = 4"
   ]
  },
  {
   "cell_type": "markdown",
   "id": "942da237",
   "metadata": {},
   "source": [
    "###### Función que devuelve los índices de los atípicos"
   ]
  },
  {
   "cell_type": "code",
   "execution_count": 32,
   "id": "8a81f494",
   "metadata": {},
   "outputs": [],
   "source": [
    "def atipicos_desv_tip(variable, num_desv_tip = 4):\n",
    "    #sacamos los nulos por ahora\n",
    "    variable = variable.dropna()\n",
    "    #calculamos los límites\n",
    "    media = np.mean(variable)\n",
    "    sd = np.std(variable)\n",
    "    umbral = sd * num_desv_tip\n",
    "    lim_inf = media - umbral\n",
    "    lim_sup = media + umbral\n",
    "    #encontramos los índices de los que están fuera de los límites\n",
    "    indices = [indice for indice,valor in variable.items() if valor < lim_inf or valor > lim_sup]\n",
    "    return(indices)"
   ]
  },
  {
   "cell_type": "markdown",
   "id": "768e7398",
   "metadata": {},
   "source": [
    "###### Función que cuenta el número de atípicos"
   ]
  },
  {
   "cell_type": "code",
   "execution_count": 33,
   "id": "5c8f4462",
   "metadata": {},
   "outputs": [],
   "source": [
    "def conteo_atipicos(df,variable, num_desv_tip = 4):\n",
    "    atipicos = atipicos_desv_tip(df[variable], num_desv_tip)\n",
    "    return(df.loc[atipicos,variable].value_counts().sort_index())"
   ]
  },
  {
   "cell_type": "markdown",
   "id": "5cd1e425",
   "metadata": {},
   "source": [
    "###### Variables a aplicar"
   ]
  },
  {
   "cell_type": "code",
   "execution_count": 42,
   "id": "cfbb3d88",
   "metadata": {},
   "outputs": [],
   "source": [
    "#var_atipicos_dt = ['ingresos','principal','imp_cuota','imp_recuperado']"
   ]
  },
  {
   "cell_type": "code",
   "execution_count": 47,
   "id": "2266edec",
   "metadata": {},
   "outputs": [],
   "source": [
    "var_atipicos_dt = num.columns.tolist()"
   ]
  },
  {
   "cell_type": "markdown",
   "id": "ac400ced",
   "metadata": {},
   "source": [
    "###### Aplicar"
   ]
  },
  {
   "cell_type": "code",
   "execution_count": 48,
   "id": "c4b74e98",
   "metadata": {},
   "outputs": [
    {
     "name": "stdout",
     "output_type": "stream",
     "text": [
      "\n",
      "ingresos:\n",
      "\n",
      "415,000.00       3\n",
      "417,000.00       1\n",
      "418,000.00       1\n",
      "420,000.00       8\n",
      "422,000.00       1\n",
      "                ..\n",
      "7,000,000.00     1\n",
      "7,845,315.00     1\n",
      "8,500,000.00     1\n",
      "9,573,072.00     1\n",
      "10,999,200.00    1\n",
      "Name: ingresos, Length: 149, dtype: int64\n",
      "\n",
      "dti:\n",
      "\n",
      "77.33     1\n",
      "77.41     1\n",
      "77.53     1\n",
      "77.78     1\n",
      "77.94     2\n",
      "         ..\n",
      "756.46    1\n",
      "815.66    1\n",
      "819.96    1\n",
      "942.17    1\n",
      "999.00    9\n",
      "Name: dti, Length: 260, dtype: int64\n",
      "\n",
      "num_hipotecas:\n",
      "\n",
      "10.00    176\n",
      "11.00     86\n",
      "12.00     41\n",
      "13.00     31\n",
      "14.00     20\n",
      "15.00     13\n",
      "16.00      5\n",
      "17.00      6\n",
      "18.00      5\n",
      "19.00      1\n",
      "20.00      2\n",
      "21.00      2\n",
      "23.00      1\n",
      "25.00      1\n",
      "32.00      1\n",
      "Name: num_hipotecas, dtype: int64\n",
      "\n",
      "num_lineas_credito:\n",
      "\n",
      "35.00    102\n",
      "36.00     68\n",
      "37.00     44\n",
      "38.00     54\n",
      "39.00     46\n",
      "40.00     40\n",
      "41.00     29\n",
      "42.00     23\n",
      "43.00     14\n",
      "44.00     17\n",
      "45.00     10\n",
      "46.00      7\n",
      "47.00     10\n",
      "48.00      4\n",
      "49.00      6\n",
      "50.00      3\n",
      "51.00      4\n",
      "52.00      5\n",
      "53.00      2\n",
      "55.00      2\n",
      "56.00      2\n",
      "60.00      1\n",
      "62.00      1\n",
      "69.00      1\n",
      "80.00      1\n",
      "84.00      1\n",
      "91.00      1\n",
      "Name: num_lineas_credito, dtype: int64\n",
      "\n",
      "porc_tarjetas_75p:\n",
      "\n",
      "Series([], Name: porc_tarjetas_75p, dtype: int64)\n",
      "\n",
      "porc_uso_revolving:\n",
      "\n",
      "155.30    1\n",
      "158.70    1\n",
      "366.60    1\n",
      "Name: porc_uso_revolving, dtype: int64\n",
      "\n",
      "num_cancelaciones_12meses:\n",
      "\n",
      "1.00    962\n",
      "2.00     57\n",
      "3.00     11\n",
      "4.00      5\n",
      "5.00      2\n",
      "7.00      2\n",
      "Name: num_cancelaciones_12meses, dtype: int64\n",
      "\n",
      "num_derogatorios:\n",
      "\n",
      "3.00     626\n",
      "4.00     237\n",
      "5.00     108\n",
      "6.00      54\n",
      "7.00      31\n",
      "8.00      16\n",
      "9.00       9\n",
      "10.00      8\n",
      "11.00      4\n",
      "13.00      3\n",
      "15.00      1\n",
      "16.00      1\n",
      "19.00      1\n",
      "24.00      1\n",
      "28.00      1\n",
      "31.00      1\n",
      "46.00      1\n",
      "Name: num_derogatorios, dtype: int64\n",
      "\n",
      "num_meses_desde_ult_retraso:\n",
      "\n",
      "109.00    3\n",
      "112.00    3\n",
      "113.00    1\n",
      "114.00    4\n",
      "116.00    1\n",
      "118.00    3\n",
      "119.00    1\n",
      "121.00    2\n",
      "122.00    1\n",
      "123.00    1\n",
      "125.00    1\n",
      "126.00    1\n",
      "128.00    1\n",
      "129.00    1\n",
      "134.00    2\n",
      "142.00    1\n",
      "145.00    1\n",
      "146.00    1\n",
      "148.00    1\n",
      "151.00    1\n",
      "159.00    1\n",
      "180.00    1\n",
      "195.00    1\n",
      "Name: num_meses_desde_ult_retraso, dtype: int64\n",
      "\n",
      "principal:\n",
      "\n",
      "Series([], Name: principal, dtype: int64)\n",
      "\n",
      "tipo_interes:\n",
      "\n",
      "Series([], Name: tipo_interes, dtype: int64)\n",
      "\n",
      "imp_cuota:\n",
      "\n",
      "1,535.71    1\n",
      "1,566.80    2\n",
      "1,587.02    1\n",
      "1,607.80    1\n",
      "1,714.54    1\n",
      "Name: imp_cuota, dtype: int64\n",
      "\n",
      "imp_amortizado:\n",
      "\n",
      "Series([], Name: imp_amortizado, dtype: int64)\n",
      "\n",
      "imp_recuperado:\n",
      "\n",
      "3,181.57     1\n",
      "3,181.63     1\n",
      "3,182.01     1\n",
      "3,182.39     1\n",
      "3,183.00     1\n",
      "            ..\n",
      "24,216.40    1\n",
      "24,383.06    1\n",
      "27,478.64    1\n",
      "27,657.68    1\n",
      "33,407.16    1\n",
      "Name: imp_recuperado, Length: 1589, dtype: int64\n"
     ]
    }
   ],
   "source": [
    "for variable in var_atipicos_dt:\n",
    "    print('\\n' + variable + ':\\n')\n",
    "    print(conteo_atipicos(num,variable,num_desv_tip))"
   ]
  },
  {
   "cell_type": "markdown",
   "id": "5beaeba9",
   "metadata": {},
   "source": [
    "Revisamos con más detalle la variable ingresos."
   ]
  },
  {
   "cell_type": "code",
   "execution_count": 49,
   "id": "0b1c7eb8",
   "metadata": {},
   "outputs": [
    {
     "data": {
      "text/plain": [
       "count      140,000.00\n",
       "mean        78,276.50\n",
       "std         83,689.41\n",
       "min              0.00\n",
       "25%         46,000.00\n",
       "50%         65,000.00\n",
       "75%         93,600.00\n",
       "max     10,999,200.00\n",
       "Name: ingresos, dtype: float64"
      ]
     },
     "execution_count": 49,
     "metadata": {},
     "output_type": "execute_result"
    }
   ],
   "source": [
    "num.ingresos.describe()"
   ]
  },
  {
   "cell_type": "markdown",
   "id": "5197aae9",
   "metadata": {},
   "source": [
    "##### Corrección"
   ]
  },
  {
   "cell_type": "markdown",
   "id": "2b9255dd",
   "metadata": {},
   "source": [
    "Eliminar los registros con ingresos superiores a 300.000$"
   ]
  },
  {
   "cell_type": "markdown",
   "id": "e1233b46",
   "metadata": {},
   "source": [
    "*Cuidado: Si se eliminan registros hay que eliminarlos tanto de cat como de num*"
   ]
  },
  {
   "cell_type": "markdown",
   "id": "18548d6d",
   "metadata": {},
   "source": [
    "###### Id de registros a eliminar"
   ]
  },
  {
   "cell_type": "code",
   "execution_count": 50,
   "id": "7d1c1e81",
   "metadata": {},
   "outputs": [
    {
     "data": {
      "text/plain": [
       "array([ 97629676,    601669,  88149047,  58654033,  96702950,  70180828,\n",
       "        83678168,  75468055, 104953803,  68355962,  60525500,  59101444,\n",
       "        74703269,  26329813, 101561119, 121891976, 141509839,  74845067,\n",
       "       113905376,  91162705,  69967314,  69127903, 134144676,  88195703,\n",
       "       136270374, 114793732, 115048244, 110905405, 128843574,  93634763,\n",
       "        39559363, 142502569, 107733336,  77517938,  93092543,  91131807,\n",
       "       122689487,  57074442, 133401013,  40942257,  79492925,   3630153,\n",
       "        78419419,  79390430, 141591423,  92659557, 128067879,  88921166,\n",
       "        65087421,  18895853, 109743090,    225812, 131383380, 109322909,\n",
       "       141468030,  92035926, 137347897,  53252537,  60873988, 144125851,\n",
       "        12938159, 120217704, 104110402,  59242936, 132251779,   4044958,\n",
       "       134479546, 134323203, 104319520,   2367546,  79081285,  40385541,\n",
       "       120150582,  74585468, 143147174, 105895840, 124877413, 125330617,\n",
       "       122347658, 140598256, 103337282,  14479716,  54248761, 145550896,\n",
       "       108846002, 102574792,  10105445, 122681489, 135802748,  74523571,\n",
       "       120205589, 114427471,  46808563, 120605739,   1689366,  62236660,\n",
       "       109005497, 141424441,  88096112, 130398061,  92104768,  88763639,\n",
       "       130368292, 119787910,  56934450,  14530758,  93960404, 135369591,\n",
       "       119238056, 140851137,  41130637, 143570470,   6708897,  50515982,\n",
       "        91946592,  51195674,  98197574, 127980829, 120091603,  83964896,\n",
       "        44796469, 139043081,  81180268,  93820307, 142447421,  98845836,\n",
       "        60893886,  54988387,  33411438, 144884757,  94479580, 134124984,\n",
       "        67989743, 142275020,  77815438, 104092211,  12596976,  50053165,\n",
       "       117716248,   5648222, 134742400,  88138821,   9775633, 134387430,\n",
       "       102586814,   2084601, 133534237,   1601226,  75447714,  66572368,\n",
       "       100081315,   4285539,  10156133,  43205964, 135655382,   1010101,\n",
       "        19096231,  31396507,  67998530, 126797150,  97750801,  76371883,\n",
       "       134123942, 110212529, 108133540,  14500926,  63525013,  91029006,\n",
       "       115397680, 138749234,  73724009,  84515781,  90114483, 130334199,\n",
       "        65736947, 131986111,  75291684, 141129471,  46397393,  77491016,\n",
       "          482198,  87154949, 132293472, 130818455, 143753355, 144817761,\n",
       "       124837135,  65682244, 144991963,  90427593, 103467994, 144712082,\n",
       "        75209638, 130369988, 139531061, 120038180, 124035266, 141423357,\n",
       "       141611571, 102476130, 135559263, 111054792, 137489035, 137658495,\n",
       "       137921648,   7092557,  58722741, 137316914, 137148507, 129397414,\n",
       "         2475869, 139490749,  88792922,  39897292,  82030165, 116923559,\n",
       "       119221362,  74516255,  69593596,  96202237,  70650998, 145357122,\n",
       "        51396630,    561266,  54197540, 139807209, 127391586,  78709637,\n",
       "       142179922, 122227510, 130331377,  56864853, 140958054, 143367322,\n",
       "       132003543,  35003601, 144794804,  80628288,  56662225,  96510442,\n",
       "       120055762,  93217560, 109043561, 126492093, 111896883, 137039711,\n",
       "         3930156,  52668765, 124764970,  61922933,  35703428, 116820871,\n",
       "        68394198, 122673742, 133378805,  96411541, 109915862,  55210374,\n",
       "        55959447,  74765332,  42373852, 131314415,  65781940, 139667548,\n",
       "       124793864, 104855156,  32218207,  28553097,  75203080, 136970362,\n",
       "         6765363,  94057751,  16321577, 129923979,  58270253,  58270313,\n",
       "        37841834,  39652015, 119301803,  50565203,  38645209, 132435925,\n",
       "        73558953,  84996477, 122359952,  81110235,  68999727,  57824714,\n",
       "       131524691,   3485093, 143031787,  45364141,  95037050,  90190959,\n",
       "        46447735,  67045514,  83262629, 104100603, 133490161,  94130434,\n",
       "        52048938,  97912497,  12625492,  75224867,  37217305,  79152000,\n",
       "       100075773,  65373356,  58502629, 103427531,  35683571,  91687865,\n",
       "       108782310, 127103613, 141297636,  48324582,  33191872,  60286418,\n",
       "       144497304, 104461407, 131441921,  23873784,  70962795,  66401051,\n",
       "        90985447,  81467097, 119401404,   4094838,  90135284,  61509813,\n",
       "        38429317,  76293515,  25317030,  85018036,  64360491, 138729453,\n",
       "        28112154,  74975681,  97323656, 107594877,  21501092, 131620377,\n",
       "       117863523, 143115552,  99974574, 142965286, 126102538,  94058423,\n",
       "        98758708,  66434325,  88132160,  25346564,  53654695,  88866153,\n",
       "       137542106,  70461356,  50467050,  94747729, 126475552, 121927166,\n",
       "       142688664,  73540781,   4564864,  91538091, 121326036, 139425758,\n",
       "       127647557,  38291817,  60647806,  86962780, 131391959,  34352623,\n",
       "       139391691, 103147580, 106493649, 139347011,  54848657,  98093258,\n",
       "        46447363, 124778687, 121345628, 115351209, 125754008,  70964199,\n",
       "       141414563, 136479269, 126467938,  26699946, 106845370,  73784861,\n",
       "        72585852,  11975868, 122698257,  93911517, 124774802, 124066664,\n",
       "        64391289,  60804291, 119223452,  43145218,  71061821, 132067683,\n",
       "        67286290,  28212093,   3057462, 129513556, 130344866,  43245920,\n",
       "        54047516,   1682847, 132527098, 109650231, 140523543, 125915713,\n",
       "         4279342,  70000598, 118198788, 145074086, 138773650,  73479902,\n",
       "       133212209, 141297375, 139292469,  29743947,  94436457, 134998359,\n",
       "       132242662, 138248494,  59023219, 105689911,  96696319, 124862018,\n",
       "       126279677,  70836049,  14638033,  60307143,  60740065, 129816807,\n",
       "        84556787, 109331416,  50920454, 119315129,  97316472,   6739165,\n",
       "        17745104,  70091528, 141407002,  78339835,   4548460, 143875450,\n",
       "       144580467, 123070288,  94336985,  47350458,  84455619,  44845802,\n",
       "        84476341,  12947239,  56101281, 137322291,  77337680,  98441217,\n",
       "        61369166,  10775105,  70944742,  57326917, 144110938,  83889556,\n",
       "        70811286, 111730660,    733401,  92350954,  88887467, 120186820,\n",
       "        59581973,  95756740,  70782235,  74574091,  39249244, 142998904,\n",
       "        74604136, 120385175, 134263675,   4915180,  93105696,  61502799,\n",
       "        71756031,  93135754, 123980457,  81513403,  76498775,  94293814,\n",
       "        83719876, 130085183, 128105949,  68262643, 140497949, 125693256,\n",
       "        54928488,  56079482,  75103252,  50465393,  84664341, 107058263,\n",
       "        37751532, 124457391,  85641729, 142934714, 142990784, 130820205,\n",
       "       133449364,  17332882,  99320418, 127906059,   5782704,  87165108,\n",
       "       117807046,  97344567, 129766898, 125034601, 106987403,  74101233,\n",
       "       105141433,  96628935,  72683773,  77298827,  52709212,  75182422,\n",
       "        95330554,  94293008,  38655125,  88783764,  60871980,  45794303,\n",
       "       144138560,   4095255,  61369832, 140879695,  60556832,  87904317,\n",
       "        69742452,  83313940, 137212507, 136800122,  96214908,   8607822,\n",
       "       129997570, 104664297,  55455330,  93708555,  88989629, 136491216,\n",
       "        21149939,  86522701, 121337630,  40999819, 139104218, 133131739,\n",
       "        73231267,  29164336,   8659312,  10754853,  85291159, 126203380,\n",
       "        67808218,  75941752, 142877040, 106936032,  92204864, 127103693,\n",
       "        51376251,  19607586,  46612958,   2645279, 144707260, 125281686,\n",
       "       109233752,    785827,  17793409,  86246563,   7057063,  48765830,\n",
       "       132623042,  84044804, 137147859, 143917509, 132700799, 144959732,\n",
       "        70291935,  43470183,   9047763, 144201322, 112159695,    600335,\n",
       "        96421352, 137978617,  47018331, 121366722, 106806597, 119993069,\n",
       "       132454348, 112029060, 133797798, 125704018, 128112710,  68895741,\n",
       "       134316802, 132401669,  12295155, 120384326,  97367806, 135793422,\n",
       "       131405802, 125044099,   9914858, 112159196, 143081204,   7698843,\n",
       "        50580811,  13737728, 138089027, 119279947,   1826732, 121259121,\n",
       "       101961161, 137443466,    736949,  97356377, 112840564,  71855927,\n",
       "        89909030,  96825667, 111409777, 115701929,  15840838, 140138838,\n",
       "        63888868, 123044725,  33131359,  75678885, 108107905, 127319246,\n",
       "       143625865, 126113926, 119261152,  66463794,  44995922,  70742939,\n",
       "        52506425, 140538544,  92339595,  77506868,  50606782, 138765321,\n",
       "        63459129, 142896440, 127489117,  42161459,  48001155,  67358976,\n",
       "       114218348, 125018087,  94109307,  70773671, 110321902,  53444664,\n",
       "       130946575,   1282553,  84625764,  59391462,  69833347, 109780689,\n",
       "        88880516, 128639846,  11726293,  83757649, 142504686,  70741949,\n",
       "       127583119, 115691214, 118224064,  41120916, 138931692,  16912784,\n",
       "        22151602,  70552657, 143363014, 113045183, 111558517, 143189082,\n",
       "       120659977, 109741122,  70571444,  73312777, 142014029,    792270,\n",
       "        96356064, 135374430, 127274866, 139505618,  92729477, 106347831,\n",
       "       109882084,  91230203, 113181130, 141836957,  65027508,  60890496,\n",
       "       128733287, 132458431, 100005147, 108124357, 136899808,  66440322,\n",
       "       142998906, 142911819, 124099436, 141752541,  54107140, 132932888,\n",
       "        94191553, 130195255, 128244676, 132084541, 142536497,  78800043,\n",
       "       130756073, 110261189, 140250578,  76558623, 136034396,  96044367,\n",
       "        76498600, 136149839,  66420385, 144597540, 126419934, 103408104,\n",
       "        43499873,  92912522, 128121049,  98795657, 107357067,  12515907,\n",
       "        23965663,  62337205, 113537734, 145090075,  70090973, 132997717,\n",
       "       119404461,  63328940, 119796394,   4566526, 102216584,  79370500,\n",
       "       112565361, 107459447, 126757972,  71472622,   3700899,  70886304,\n",
       "        34502262, 138585728,  37730723, 137884077,  68884530, 142474254,\n",
       "       122312648, 134330443,  52057332, 118065195,  90215075, 120623258,\n",
       "        69085139, 116244189,  57044192,  65128137, 125939307, 134022206,\n",
       "        59462084,  91984876,  96779498,  15439813, 130079181,  13267509,\n",
       "        85371987, 107189561, 105773455, 107092597, 134984803,  17745825,\n",
       "        75324463, 129394580,  99927033,  65364744,  93429953,  88014924,\n",
       "       111066384, 133212045, 141068415, 129523478,  76411138, 136429088,\n",
       "        94291807, 110282781,  88133019,  78901356, 125177151,  33230347,\n",
       "       123604983, 117218856, 134296571, 145417443,  97559272, 133076559,\n",
       "        74532268, 138282206, 107853258,  26200126, 140832746,  26820123,\n",
       "       115248214,  72712649,  39571843, 141808169, 130164560, 107336706,\n",
       "        55981721, 120047808, 121320830, 143887377,  61354166, 123903601,\n",
       "       105873152,  68691365,  44106486,  96379781, 136607131,  60904733,\n",
       "        71755374,  70511606,  85732516, 127331446, 139794277,  16221751,\n",
       "       134863470, 128130585, 132473657, 113180574, 112838177,  92460017,\n",
       "       112046210,  88704137,  90481398, 125170201,  39480666, 123063931,\n",
       "        11698480, 126624031,  63286685,  14678810,  68694046, 100155779,\n",
       "        46376412,  71754757,  92951346, 112751925,  76323387,  63178081,\n",
       "         4307450,  29733971,  16542794, 124998744, 104541361,   7081552,\n",
       "       111083362, 122659802, 130827714,  17654532,  55937578, 130705370,\n",
       "       140832910,  38604767, 138260156, 133942061,  63547209,  87314489,\n",
       "         4287915,  54534988, 137384955,  84615347,   3287408,  88043946,\n",
       "        14520987,  32358988, 120092069, 127011767, 121245177, 119692786,\n",
       "       111956836,  27581020,  77366625, 114514072,  65028939,  40117778,\n",
       "         1188969, 124953572,  81572192, 139082105,  89543172, 136418634],\n",
       "      dtype=int64)"
      ]
     },
     "execution_count": 50,
     "metadata": {},
     "output_type": "execute_result"
    }
   ],
   "source": [
    "a_eliminar = num.loc[num.ingresos > 300000].index.values\n",
    "a_eliminar"
   ]
  },
  {
   "cell_type": "markdown",
   "id": "b995bf77",
   "metadata": {},
   "source": [
    "###### Aplicar"
   ]
  },
  {
   "cell_type": "code",
   "execution_count": 51,
   "id": "413fa5ea",
   "metadata": {},
   "outputs": [],
   "source": [
    "cat = cat[~cat.index.isin(a_eliminar)]\n",
    "num = num[~num.index.isin(a_eliminar)]"
   ]
  },
  {
   "cell_type": "markdown",
   "id": "0f6b1e4a",
   "metadata": {},
   "source": [
    "## GUARDAR DATASETS TRAS CALIDAD DE DATOS"
   ]
  },
  {
   "cell_type": "markdown",
   "id": "1e211b09",
   "metadata": {},
   "source": [
    "Guarda los avances en df, cat y num con un sufijo para poder guardar o recuperar avances del proyecto.\n",
    "\n",
    "En formato pickle para no perder las modificaciones de metadatos."
   ]
  },
  {
   "cell_type": "markdown",
   "id": "abb12eef",
   "metadata": {},
   "source": [
    "### Definir los nombres de los archivos"
   ]
  },
  {
   "cell_type": "code",
   "execution_count": 52,
   "id": "f83c6f26",
   "metadata": {},
   "outputs": [],
   "source": [
    "ruta_trabajo = ruta_proyecto + '/02_Datos/03_Trabajo/' + 'trabajo_resultado_calidad.pickle'\n",
    "ruta_cat = ruta_proyecto + '/02_Datos/03_Trabajo/' + 'cat_resultado_calidad.pickle'\n",
    "ruta_num = ruta_proyecto + '/02_Datos/03_Trabajo/' + 'num_resultado_calidad.pickle'"
   ]
  },
  {
   "cell_type": "markdown",
   "id": "1699f284",
   "metadata": {},
   "source": [
    "### Guardar los archivos"
   ]
  },
  {
   "cell_type": "code",
   "execution_count": 53,
   "id": "6731887a",
   "metadata": {},
   "outputs": [],
   "source": [
    "df.to_pickle(ruta_trabajo)\n",
    "cat.to_pickle(ruta_cat)\n",
    "num.to_pickle(ruta_num)"
   ]
  }
 ],
 "metadata": {
  "kernelspec": {
   "display_name": "Python 3 (ipykernel)",
   "language": "python",
   "name": "python3"
  },
  "language_info": {
   "codemirror_mode": {
    "name": "ipython",
    "version": 3
   },
   "file_extension": ".py",
   "mimetype": "text/x-python",
   "name": "python",
   "nbconvert_exporter": "python",
   "pygments_lexer": "ipython3",
   "version": "3.9.7"
  },
  "toc": {
   "base_numbering": 1,
   "nav_menu": {},
   "number_sections": true,
   "sideBar": true,
   "skip_h1_title": false,
   "title_cell": "Table of Contents",
   "title_sidebar": "Contents",
   "toc_cell": false,
   "toc_position": {
    "height": "calc(100% - 180px)",
    "left": "10px",
    "top": "150px",
    "width": "190.49px"
   },
   "toc_section_display": true,
   "toc_window_display": true
  },
  "varInspector": {
   "cols": {
    "lenName": 16,
    "lenType": 16,
    "lenVar": 40
   },
   "kernels_config": {
    "python": {
     "delete_cmd_postfix": "",
     "delete_cmd_prefix": "del ",
     "library": "var_list.py",
     "varRefreshCmd": "print(var_dic_list())"
    },
    "r": {
     "delete_cmd_postfix": ") ",
     "delete_cmd_prefix": "rm(",
     "library": "var_list.r",
     "varRefreshCmd": "cat(var_dic_list()) "
    }
   },
   "position": {
    "height": "546.85px",
    "left": "680.75px",
    "right": "20px",
    "top": "118px",
    "width": "350px"
   },
   "types_to_exclude": [
    "module",
    "function",
    "builtin_function_or_method",
    "instance",
    "_Feature"
   ],
   "window_display": false
  }
 },
 "nbformat": 4,
 "nbformat_minor": 5
}
