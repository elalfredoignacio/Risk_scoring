{
 "cells": [
  {
   "cell_type": "markdown",
   "id": "e92391c1",
   "metadata": {},
   "source": [
    "# BONUS: MINI CURSO CREACIÓN DE UNA APLICACIÓN CON STREAMLIT"
   ]
  },
  {
   "cell_type": "markdown",
   "id": "d3e8dbdf",
   "metadata": {},
   "source": [
    "## CONTEXTO"
   ]
  },
  {
   "cell_type": "markdown",
   "id": "d9f94898",
   "metadata": {},
   "source": [
    "Nuestro trabajo como data scientist ha terminado.\n",
    "\n",
    "Ahora ingenieros de datos, y desarrolladores de aplicaciones tomarán nuestro output como su input y crearán productos de datos con ello.\n",
    "\n",
    "No obstante hay veces que queremos hacer una demo rápida para que se visualice nuestro trabajo.\n",
    "\n",
    "O crear un prototipo para explicar a un jefe o cliente cómo se explotarán finalmente los modelos que hemos desarrollado.\n",
    "\n",
    "Para ello podemos usar un paquete relativamente nuevo que permite a los DS desarrollar aplicaciones sencillas sin necesidad de conocimientos de desarrollo web: Streamlit.\n",
    "\n",
    "Hay que dejar claro que Streamlit no es un paquete solo para hacer prototipos.\n",
    "\n",
    "Si no que se pueden hacer aplicaciones profesionales con él.\n",
    "\n",
    "Pero para ello además del conocimiento de Streamlit sí harían falta otros conocimientos de Devops y desarrollo de software.\n",
    "\n",
    "Por tanto nosotros lo usaremos para los prototipos."
   ]
  },
  {
   "cell_type": "markdown",
   "id": "d723bacd",
   "metadata": {},
   "source": [
    "## ¿QUÉ ES STREAMLIT?"
   ]
  },
  {
   "cell_type": "markdown",
   "id": "fe8703e9",
   "metadata": {},
   "source": [
    "Como decíamos es un paquete que nos va a permitir construir y compartir aplicaciones de datos de forma rápida y relativamente sencilla.\n",
    "\n",
    "https://streamlit.io/\n",
    "\n",
    "Es reciente y todavía está en desarrollo, pero con lo que ya hay se pueden hacer aplicaciones totalmente funcionales.\n",
    "\n",
    "Se instala con conda install -c conda-forge streamlit\n",
    "\n",
    "Se importa con import streamlit as st\n",
    "\n",
    "Cada aplicación tiene que tener su propia carpeta.\n",
    "\n",
    "Se desarrolla como cualquier script de Python, el código se puede hacer con Jupyter.\n",
    "\n",
    "Pero para ejecutarlo hay que guardarlo en un .py y lanzarlo desde el sistema.\n",
    "\n",
    "El código es puramente Python, no necesitamos saber html, ni css, ni javascript, ...\n",
    "\n",
    "Por tanto podemos usar en las aplicaciones todo lo que ya conocemos: Pandas, Numpy, Seaborn, ScikitLearn, etc.\n",
    "\n",
    "Como toda aplicación necesita correr en un servidor.\n",
    "\n",
    "Para desarrollar podemos usar nuestro equipo local como servidor muy fácilmente.\n",
    "\n",
    "Para ponerla en producción se hace en un servidor que la sirva en internet:\n",
    "\n",
    "* El propio streamlit ofrece un servicio gratuito: será el que usemos nosotros y te servirá para prototipos o para mostrar tu portfolio\n",
    "* Para uso profesional se puede implantar en servidores propios de la empresa o en cloud como AWS, Heroku, ..."
   ]
  },
  {
   "cell_type": "markdown",
   "id": "b8e68c6c",
   "metadata": {},
   "source": [
    "## CREAR Y LANZAR UNA APLICACIÓN"
   ]
  },
  {
   "cell_type": "markdown",
   "id": "e3332ef8",
   "metadata": {},
   "source": [
    "1. Crea una nueva carpeta llamada app_prueba\n",
    "2. Dentro crea un archivo de texto llamado app_prueba.py\n",
    "3. Copia el código de abajo en el archivo\n",
    "4. Abre una ventana de anaconda prompt o terminal\n",
    "5. Activa el entorno del proyecto\n",
    "6. Desplázate a la carpeta de la app con: cd ruta_carpeta\n",
    "7. Ejecuta con: streamlit run app_prueba.py"
   ]
  },
  {
   "cell_type": "code",
   "execution_count": null,
   "id": "1a282118-473a-40a0-bfb6-73fbdc016ae2",
   "metadata": {},
   "outputs": [],
   "source": [
    "import pandas as pd\n",
    "import seaborn as sns\n",
    "import streamlit as st\n",
    "\n",
    "df = sns.load_dataset('tips')\n",
    "\n",
    "seleccion = st.selectbox('Elige:',['Male','Female'])\n",
    "\n",
    "df.loc[df.sex == seleccion]"
   ]
  },
  {
   "cell_type": "markdown",
   "id": "dd3266d1",
   "metadata": {},
   "source": [
    "## GRÁFICOS"
   ]
  },
  {
   "cell_type": "markdown",
   "id": "88a64b0d",
   "metadata": {},
   "source": [
    "Hay dos formas de incluir gráficos en una app de Streamlit:\n",
    "\n",
    "* Con los elementos nativos\n",
    "* Con paquetes de Python\n",
    "\n",
    "Los elementos nativos son st.line_chart(), st.bar_chart(), st.area_chart() y st.map()\n",
    "\n",
    "El problema es que son muy básicos y poco flexibles y tienes que pasarles un dataset muy limpio. Así que no los usaremos.\n",
    "\n",
    "Sobre paquetes de Python podemos usar Matplotlib y Seaborn (entre otros). Usaremos esta opción.\n",
    "\n",
    "Para hacer gráficos con Matplotlib y Seaborn tenemos que guardar el gráfico creado con ellos en una variable y después mostrarla con un objeto st.pyplot()\n",
    "\n",
    "Ejercicio:\n",
    "\n",
    "1. Sobreescribe el script con el código inferior\n",
    "2. Haz click en rerun o pulsa r en la aplicación"
   ]
  },
  {
   "cell_type": "code",
   "execution_count": null,
   "id": "088aa52c-fa2d-433d-8607-dc241d3882e3",
   "metadata": {},
   "outputs": [],
   "source": [
    "import pandas as pd\n",
    "import seaborn as sns\n",
    "import streamlit as st\n",
    "\n",
    "df = sns.load_dataset('tips')\n",
    "\n",
    "seleccion = st.selectbox('Elige:',['Male','Female'])\n",
    "\n",
    "g = sns.displot(data = df.loc[df.sex == seleccion], x = 'total_bill',kind= 'kde')\n",
    "\n",
    "st.pyplot(g)"
   ]
  },
  {
   "cell_type": "markdown",
   "id": "f6d8b3ee",
   "metadata": {},
   "source": [
    "## ELEMENTOS"
   ]
  },
  {
   "cell_type": "markdown",
   "id": "0a133577",
   "metadata": {},
   "source": [
    "Ya hemos visto como funcionan un elemento de input de información y uno de output (el gráfico).\n",
    "\n",
    "Hay muchos más y funcionan todos de forma similar.\n",
    "\n",
    "Los elementos se oganizan en los siguientes grupos:\n",
    "\n",
    "* Write and Magic\n",
    "* Text\n",
    "* Data\n",
    "* Input\n",
    "* Media\n",
    "* Layouts\n",
    "* Status\n",
    "* Control Flow\n",
    "* Charts\n",
    "* Utilities\n",
    "* Mutate charts\n",
    "* State management\n",
    "* Performance\n",
    "* Components\n",
    "\n",
    "Puedes ver una lista actualizada y la doc de la API aquí:\n",
    "\n",
    "https://docs.streamlit.io/library/api-reference\n",
    "\n",
    "Streamlit está en contínuo desarrollo.\n",
    "\n",
    "Los elementos primero se sacan como st.experimental_ después se pasan a st.beta_ y finalmente se pasan a st.\n",
    "\n",
    "Por tanto puede que un momento determinado tengas que usar un elemento como st.experimental_ y unos meses después lo encuentres en st.beta_ o st.\n",
    "\n",
    "Los elementos se van situando en la aplicación en el orden en el que son creados en el código.\n",
    "\n",
    "\n",
    "Ejercicio: Incorpora en la aplicación:\n",
    "\n",
    "* Un KPI (métrica) con el ticket medio por servicio\n",
    "* Un input tipo radio para seleccionar entre fumador o no\n",
    "* Un slider para filtrar por el total de la cuenta\n",
    "* Un histograma con la distribución de propinas de los registros filtrados"
   ]
  },
  {
   "cell_type": "code",
   "execution_count": 8,
   "id": "a935eaf7",
   "metadata": {},
   "outputs": [
    {
     "name": "stdout",
     "output_type": "stream",
     "text": [
      "<class 'pandas.core.frame.DataFrame'>\n",
      "RangeIndex: 244 entries, 0 to 243\n",
      "Data columns (total 7 columns):\n",
      " #   Column      Non-Null Count  Dtype   \n",
      "---  ------      --------------  -----   \n",
      " 0   total_bill  244 non-null    float64 \n",
      " 1   tip         244 non-null    float64 \n",
      " 2   sex         244 non-null    category\n",
      " 3   smoker      244 non-null    category\n",
      " 4   day         244 non-null    category\n",
      " 5   time        244 non-null    category\n",
      " 6   size        244 non-null    int64   \n",
      "dtypes: category(4), float64(2), int64(1)\n",
      "memory usage: 7.4 KB\n"
     ]
    }
   ],
   "source": [
    "df.info()"
   ]
  },
  {
   "cell_type": "code",
   "execution_count": null,
   "id": "96713768",
   "metadata": {},
   "outputs": [],
   "source": [
    "import pandas as pd\n",
    "import seaborn as sns\n",
    "import streamlit as st\n",
    "import matplotlib.pyplot as plt\n",
    "\n",
    "#INPUT\n",
    "df = sns.load_dataset('tips')\n",
    "\n",
    "seleccion_sexo = st.selectbox('Elige sexo:',['Male','Female'])\n",
    "seleccion_fumador = st.radio(\n",
    "    \"Selecciona si es fumador o no\",\n",
    "    [\"Yes\", \"No\"])\n",
    "total_cuenta = st.slider('Monto total de cuenta mayor que', df.total_bill.min(), df.total_bill.max())\n",
    "\n",
    "#CALCULOS\n",
    "temp = df.loc[(df.sex == seleccion_sexo) & (df.smoker == seleccion_fumador) & (df.total_bill > total_cuenta)].copy()\n",
    "\n",
    "ticket_medio = temp.total_bill.mean()\n",
    "\n",
    "#OUTPUT\n",
    "st.metric(label=\"Ticket medio por servicio\", value=ticket_medio)\n",
    "\n",
    "fig, ax = plt.subplots()\n",
    "\n",
    "ax = sns.histplot(data = temp, x = 'tip')\n",
    "plt.title ('Distribucion de propinas')\n",
    "st.pyplot(fig)"
   ]
  },
  {
   "cell_type": "code",
   "execution_count": null,
   "id": "6376880e-79ee-4408-a29c-c6591621290f",
   "metadata": {},
   "outputs": [],
   "source": [
    "import pandas as pd\n",
    "import seaborn as sns\n",
    "import streamlit as st\n",
    "import matplotlib.pyplot as plt\n",
    "\n",
    "#INPUT\n",
    "\n",
    "df = sns.load_dataset('tips')\n",
    "\n",
    "seleccion_sexo = st.selectbox('Elige sexo:',['Male','Female'])\n",
    "\n",
    "seleccion_fumador = st.radio('Elige fumador:',['Yes','No'])\n",
    "\n",
    "slider_total_cuenta = st.slider('Cuenta mayor que: ', df.total_bill.min(), df.total_bill.max())\n",
    "\n",
    "\n",
    "#CALCULOS\n",
    "\n",
    "datos = df.loc[(df.sex == seleccion_sexo) & \n",
    "                      (df.smoker == seleccion_fumador) & \n",
    "                      (df.total_bill > slider_total_cuenta)].copy()\n",
    "\n",
    "ticket_medio = round(datos.total_bill.mean(),2)\n",
    "\n",
    "\n",
    "#OUTPUT\n",
    "\n",
    "kpi_ticket_medio = st.metric('Ticket Medio',ticket_medio)\n",
    "\n",
    "fig, ax = plt.subplots()\n",
    "\n",
    "ax = sns.histplot(data = datos, x = 'total_bill')\n",
    "\n",
    "st.pyplot(fig)"
   ]
  },
  {
   "cell_type": "markdown",
   "id": "726dfe91",
   "metadata": {},
   "source": [
    "## CARGAR DATOS"
   ]
  },
  {
   "cell_type": "markdown",
   "id": "9626ff46",
   "metadata": {},
   "source": [
    "Si queremos que el usuario pueda cargar sus propios datos podemos usar el elemento st.file_uploader()\n",
    "\n",
    "Ejercicio:\n",
    "\n",
    "* Actualiza el script con el siguiente código y ejecuta"
   ]
  },
  {
   "cell_type": "code",
   "execution_count": null,
   "id": "32a7567c",
   "metadata": {},
   "outputs": [],
   "source": [
    "import pandas as pd\n",
    "import seaborn as sns\n",
    "import streamlit as st\n",
    "import matplotlib.pyplot as plt\n",
    "\n",
    "archivo = st.file_uploader('Selecciona un archivo csv')\n",
    "\n",
    "df = pd.read_csv(archivo)\n",
    "\n",
    "variable_num = st.selectbox('Selecciona una variable numerica:',df.columns.to_list())\n",
    "\n",
    "fig, ax = plt.subplots()\n",
    "\n",
    "ax = sns.histplot(data = df, x = variable_num)\n",
    "\n",
    "st.pyplot(fig)"
   ]
  },
  {
   "cell_type": "markdown",
   "id": "d5244467",
   "metadata": {},
   "source": [
    "Como ves hay un problema.\n",
    "\n",
    "Como al arrancar la aplicación todavía no hay ningún archivo cargado da unos errores muy feos hasta que se carga un archivo.\n",
    "\n",
    "Es por lo que decíamos de que Streamlit ejecuta los procesos por el orden del código.\n",
    "\n",
    "Para evitarlo podemos usar st.stop() para bloquear la ejecución mientras que el valor de archivo sea None.\n",
    "\n",
    "Ejercicio:\n",
    "\n",
    "1. Actualiza el script con el siguiente código y ejecuta"
   ]
  },
  {
   "cell_type": "code",
   "execution_count": null,
   "id": "ca875533",
   "metadata": {},
   "outputs": [],
   "source": [
    "import pandas as pd\n",
    "import seaborn as sns\n",
    "import streamlit as st\n",
    "import matplotlib.pyplot as plt\n",
    "\n",
    "archivo = st.file_uploader('Selecciona un archivo csv')\n",
    "\n",
    "if archivo is not None:\n",
    "    df = pd.read_csv(archivo)\n",
    "else:\n",
    "    st.stop()\n",
    "\n",
    "variable_num = st.selectbox('Selecciona una variable numerica:',df.columns.to_list())\n",
    "\n",
    "fig, ax = plt.subplots()\n",
    "\n",
    "ax = sns.histplot(data = df, x = variable_num)\n",
    "\n",
    "st.pyplot(fig)"
   ]
  },
  {
   "cell_type": "markdown",
   "id": "086526d6",
   "metadata": {},
   "source": [
    "## REACTIVIDAD Y CACHÉS"
   ]
  },
  {
   "cell_type": "markdown",
   "id": "5b67169f",
   "metadata": {},
   "source": [
    "Hemos visto cómo al cambiar los inputs automáticamente streamlit recalcula todo y actualiza los resultados.\n",
    "\n",
    "Eso, que parece obvio, y que streamlit hace tan fácil, se llama reactividad y es bastante más complicado en otros lenguajes (ej Shiny).\n",
    "\n",
    "Pero la simplicidad viene a un coste, que como todo se recalcula con cualquier cambio, si la aplicación lleva implícitos procesos pesados (o sobre muchos datos) hace que se vuelva extremadamente lenta.\n",
    "\n",
    "Para evitarlo podemos usar cachés.\n",
    "\n",
    "Definir un caché es como dejar tomada una foto del objeto en la memoria, de tal forma que ese objeto no se vuelve a ejecutar hasta que exista algún cambio en lo que lo provocó.\n",
    "\n",
    "En Streamlit se implementa metiendo el objeto en una función, y añadiendo la línea @st.cache_data() antes de ella.\n",
    "\n",
    "De tal forma que mientras que la función sea llamada con los mismos parámetros con los que ya está en memoria devolverá ese caché y no volverá a ejecutarla.\n",
    "\n",
    "Ejercicio:\n",
    "\n",
    "Vamos a usar el mismo script que antes pero vamos a meterle artificialmente un bloqueo temporal en la parte de la carga de datos para simular que estamos cargando datos muy voluminosos.\n",
    "\n",
    "1. Actualiza el script con el siguiente código y ejecuta\n",
    "2. Vuelve a cargar los mismos datos y fíjate cómo tarda en responder"
   ]
  },
  {
   "cell_type": "code",
   "execution_count": null,
   "id": "ce960038",
   "metadata": {},
   "outputs": [],
   "source": [
    "import pandas as pd\n",
    "import seaborn as sns\n",
    "import streamlit as st\n",
    "import matplotlib.pyplot as plt\n",
    "import time\n",
    "\n",
    "archivo = st.file_uploader('Selecciona un archivo csv')\n",
    "\n",
    "if archivo is not None:\n",
    "    df = pd.read_csv(archivo)\n",
    "    time.sleep(5)\n",
    "    \n",
    "else:\n",
    "    st.stop()\n",
    "\n",
    "variable_num = st.selectbox('Selecciona una variable numerica:',df.columns.to_list())\n",
    "\n",
    "fig, ax = plt.subplots()\n",
    "\n",
    "ax = sns.histplot(data = df, x = variable_num)\n",
    "\n",
    "st.pyplot(fig)"
   ]
  },
  {
   "cell_type": "markdown",
   "id": "54dabd36",
   "metadata": {},
   "source": [
    "Ahora vamos a meter el proceso de importación de datos en una función."
   ]
  },
  {
   "cell_type": "code",
   "execution_count": null,
   "id": "9cf5ac2a",
   "metadata": {},
   "outputs": [],
   "source": [
    "import pandas as pd\n",
    "import seaborn as sns\n",
    "import streamlit as st\n",
    "import matplotlib.pyplot as plt\n",
    "import time\n",
    "\n",
    "\n",
    "archivo = st.file_uploader('Selecciona un archivo csv')\n",
    "\n",
    "def cargar_datos(archivo):\n",
    "    if archivo is not None:\n",
    "        df = pd.read_csv(archivo)\n",
    "        time.sleep(5)\n",
    "    else:\n",
    "        st.stop()\n",
    "    return(df)\n",
    "\n",
    "df = cargar_datos(archivo)\n",
    "\n",
    "variable_num = st.selectbox('Selecciona una variable numerica:',df.columns.to_list())\n",
    "\n",
    "fig, ax = plt.subplots()\n",
    "\n",
    "ax = sns.histplot(data = df, x = variable_num)\n",
    "\n",
    "st.pyplot(fig)"
   ]
  },
  {
   "cell_type": "markdown",
   "id": "f73db8dc",
   "metadata": {},
   "source": [
    "Por último incluímos el decorator para crear el caché delante de la función."
   ]
  },
  {
   "cell_type": "code",
   "execution_count": null,
   "id": "778c16b3",
   "metadata": {},
   "outputs": [],
   "source": [
    "import pandas as pd\n",
    "import seaborn as sns\n",
    "import streamlit as st\n",
    "import matplotlib.pyplot as plt\n",
    "import time\n",
    "\n",
    "\n",
    "archivo = st.file_uploader('Selecciona un archivo csv')\n",
    "\n",
    "@st.cache_data()\n",
    "def cargar_datos(archivo):\n",
    "    if archivo is not None:\n",
    "        df = pd.read_csv(archivo)\n",
    "        time.sleep(5)\n",
    "    else:\n",
    "        st.stop()\n",
    "    return(df)\n",
    "\n",
    "df = cargar_datos(archivo)\n",
    "\n",
    "variable_num = st.selectbox('Selecciona una variable numerica:',df.columns.to_list())\n",
    "\n",
    "fig, ax = plt.subplots()\n",
    "\n",
    "ax = sns.histplot(data = df, x = variable_num)\n",
    "\n",
    "st.pyplot(fig)"
   ]
  },
  {
   "cell_type": "markdown",
   "id": "437a7524",
   "metadata": {},
   "source": [
    "## CARGAR Y USAR MODELOS"
   ]
  },
  {
   "cell_type": "markdown",
   "id": "0dbf67ab",
   "metadata": {},
   "source": [
    "Podemos cargar modelos ya entrenados para usar en aplicaciones de Streamlit exactamente igual que lo hacíamos en Juypter.\n",
    "\n",
    "Por ejemplo vamos a crear una app sencilla para ejecutar el código de scoring del caso 1 \"Lead Scoring\".\n",
    "\n",
    "Fíjate en el código cómo hemos usado 3 elementos nuevos:\n",
    "\n",
    "* st.write para dar una salida de mensaje usuario\n",
    "* st.button para que el usuario elija cuando ejecutar el scoring\n",
    "* st.dataframe para mostrar un dataframe como salida\n",
    "\n",
    "Ejercicio:\n",
    "\n",
    "1. Actualiza el código inferior con la ruta donde tengas ese caso en tu equipo\n",
    "2. Copia todo el código y pégalo en el script\n",
    "3. Recuerda al buscar el archivo que tiene que ser el de validacion.csv\n",
    "4. Haz click en el botón"
   ]
  },
  {
   "cell_type": "code",
   "execution_count": null,
   "id": "30869f63",
   "metadata": {},
   "outputs": [],
   "source": [
    "import pandas as pd\n",
    "import seaborn as sns\n",
    "import streamlit as st\n",
    "import matplotlib.pyplot as plt\n",
    "import cloudpickle\n",
    "\n",
    "\n",
    "#CARGA DE DATOS\n",
    "\n",
    "archivo = st.file_uploader('Selecciona un archivo csv')\n",
    "\n",
    "@st.cache_data()\n",
    "def cargar_datos(archivo):\n",
    "    if archivo is not None:\n",
    "        df = pd.read_csv(archivo,index_col='id')\n",
    "    else:\n",
    "        st.stop()\n",
    "    return(df)\n",
    "\n",
    "df = cargar_datos(archivo)\n",
    "st.write('Archivo cargado satisfactoriamente')\n",
    "\n",
    "#PREPROCESAMIENTO\n",
    "df = df.drop_duplicates() \n",
    "df = df.loc[(df.no_llamar != 'OTROS') & (df.no_enviar_email != 'Yes') & (df.ult_actividad != 'Email Bounced')]\n",
    "                     \n",
    "variables_finales = ['ambito',\n",
    "                   'descarga_lm',\n",
    "                   'ocupacion',\n",
    "                   'paginas_vistas_visita',\n",
    "                   'score_actividad',\n",
    "                   'score_perfil',\n",
    "                   'tiempo_en_site_total',\n",
    "                   'ult_actividad',\n",
    "                   'visitas_total'\n",
    "                  ]\n",
    "                     \n",
    "df = df[variables_finales]\n",
    "\n",
    "\n",
    "#CARGA DEL PIPE DE EJECUCIÓN\n",
    "#Recuerda actualizarlo a la ruta de tu equipo\n",
    "ruta_proyecto = 'C:/Usuarios/Alfredo/DS4B/Python DS Mastery/EstructuraDirectorio/03_MACHINE_LEARNING/07_CASOS/03_RIESGOS'\n",
    "\n",
    "nombre_pipe_ejecucion = 'pipe_ejecucion_pd.pickle'\n",
    "\n",
    "ruta_pipe_ejecucion = ruta_proyecto + '/04_Modelos/' + nombre_pipe_ejecucion\n",
    "\n",
    "with open(ruta_pipe_ejecucion, mode='rb') as file:\n",
    "   pipe_ejecucion = cloudpickle.load(file)\n",
    "\n",
    "\n",
    "\n",
    "#EJECUCIÓN DEL PIPE\n",
    "\n",
    "if st.button('CLICK PARA CALCULAR EL SCORING'):\n",
    "    scoring = pipe_ejecucion.predict_proba(df)[:, 1]\n",
    "    st.dataframe(data=pd.DataFrame(scoring))"
   ]
  },
  {
   "cell_type": "markdown",
   "id": "b25bb0a5",
   "metadata": {},
   "source": [
    "## ESTRUCTURA"
   ]
  },
  {
   "cell_type": "markdown",
   "id": "b76dabab",
   "metadata": {},
   "source": [
    "Hasta ahora nuestra aplicación es sólo vertical.\n",
    "\n",
    "Podemos pensar en una organización en filas sobre una zona central.\n",
    "\n",
    "Pero Streamlit nos pone fácil dar una estructura más profesional con dos recursos: el sidebar y las columnas.\n",
    "\n",
    "**Sidebar**\n",
    "\n",
    "st.sidebar() crea automáticamente un área a la izquierda que normalmente se usa como menú.\n",
    "\n",
    "Podemos meter ahí lo que queramos, pero lo normal es meter las opciones de input para el usuario, y quizá una descripción de la app, info de la versión, datos de contacto, etc.\n",
    "\n",
    "\n",
    "**Columns**\n",
    "\n",
    "También podemos dividir la parte central en columnas, para crear estructuras más complejas.\n",
    "\n",
    "Lo hacemos con st.columns()\n",
    "\n",
    "Como parámetro podemos pasarle 2 opciones:\n",
    "\n",
    "* un número: con lo que creará tantas columnas como el número de igual anchura\n",
    "* una tupla de números: por cada elemento de la tupla creará una columna. Y el número es la anchura proporcional con respecto al resto de columnas\n",
    "\n",
    "Por ejemplo:\n",
    "\n",
    "st.columns(3) creará 3 columnas de igual anchura\n",
    "st.columns(2,1,1) creará 3 columnas donde la primera tiene el doble de anchura que el resto\n",
    "st.columns(10,5,5) creará 3 columnas donde la primera tiene el doble de anchura que el resto\n",
    "\n",
    "\n",
    "**Cómo acceder al sidebar y a las columnas**\n",
    "\n",
    "Hay dos formas:\n",
    "\n",
    "La primera es simplemente aplicando el método al objeto sidebar o columna. \n",
    "\n",
    "Esta forma se usa cuando las acciones son puntuales. Ej:\n",
    "\n",
    "st.sidebar.write('hola)\n",
    "\n",
    "col1,col2,col3 = st.columns(3)\n",
    "\n",
    "col2.write('hola)\n",
    "\n",
    "\n",
    "La segunda forma es usando la sintaxis with.\n",
    "\n",
    "Esta forma se usa cuando queremos hacer varias acciones. Ej: \n",
    "\n",
    "with st.sidebar:\n",
    "    \n",
    "    s1 = st.selectbox()\n",
    "\n",
    "    s2 = st.radio()\n",
    "\n",
    "\n",
    "Ejercicio:\n",
    "\n",
    "Retoma el código del apartado ELEMENTOS y:\n",
    "\n",
    "* pasa los elementos de input de usuario al sidebar\n",
    "* crea 2 columnas de igual anchura en la zona principal y mete el metric en la primera y el histplot en la segunda"
   ]
  },
  {
   "cell_type": "code",
   "execution_count": null,
   "id": "5eef6a01",
   "metadata": {},
   "outputs": [],
   "source": [
    "import pandas as pd\n",
    "import seaborn as sns\n",
    "import streamlit as st\n",
    "import matplotlib.pyplot as plt\n",
    "\n",
    "#INPUT\n",
    "\n",
    "df = sns.load_dataset('tips')\n",
    "\n",
    "with st.sidebar:\n",
    "    \n",
    "    seleccion_sexo = st.selectbox('Elige sexo:',['Male','Female'])\n",
    "\n",
    "    seleccion_fumador = st.radio('Elige fumador:',['Yes','No'])\n",
    "\n",
    "    slider_total_cuenta = st.slider('Cuenta mayor que: ', df.total_bill.min(), df.total_bill.max())\n",
    "\n",
    "\n",
    "#CALCULOS\n",
    "\n",
    "datos = df.loc[(df.sex == seleccion_sexo) & \n",
    "                      (df.smoker == seleccion_fumador) & \n",
    "                      (df.total_bill > slider_total_cuenta)].copy()\n",
    "\n",
    "ticket_medio = round(datos.total_bill.mean(),2)\n",
    "\n",
    "\n",
    "#OUTPUT\n",
    "\n",
    "fig, ax = plt.subplots()\n",
    "\n",
    "ax = sns.histplot(data = datos, x = 'total_bill')\n",
    "\n",
    "col1,col2 = st.columns(2)\n",
    "\n",
    "col1.metric('Ticket Medio',ticket_medio)\n",
    "\n",
    "col2.pyplot(fig)"
   ]
  },
  {
   "cell_type": "markdown",
   "id": "201a6964",
   "metadata": {},
   "source": [
    "## DAR APARIENCIA PROFESIONAL"
   ]
  },
  {
   "cell_type": "markdown",
   "id": "7b80dc56",
   "metadata": {},
   "source": [
    "Para finalizar vamos a ver cómo ajustar ciertos detalles para dar un toque más profesional a la aplicación.\n",
    "\n",
    "* Incluir un título: st.title()\n",
    "* Incluir imágenes: st.image()\n",
    "* Cambiar el favicon, título de la página y formato ancho: \n",
    "\n",
    "st.set_page_config(\n",
    "     page_title = 'Titulo',\n",
    "     page_icon = 'logo.png',\n",
    "     layout = 'wide')\n",
    "     \n",
    "Podemos elegir tema claro u oscuro.\n",
    "\n",
    "Los veremos en detalle en nustra app."
   ]
  },
  {
   "cell_type": "markdown",
   "id": "c5eb9c62",
   "metadata": {},
   "source": [
    "## PUBLICACIÓN CON STREAMLIT SHARING"
   ]
  },
  {
   "cell_type": "markdown",
   "id": "555386ea",
   "metadata": {},
   "source": [
    "**IMPORTANTE**\n",
    "\n",
    "No pasar a esta sección hasta haber visto y entendido las lecciones de la creación de la app del proyecto de riesgos.\n",
    "\n",
    "Ya que la usaremos para ejemplificar el proceso de puesta en producción con Streamlit Sharing.\n",
    "\n",
    "Para publicar con ese servicio tenemos que dar los siguientes pasos:\n",
    "\n",
    "* Generar un archivo requirements.txt\n",
    "* Crear una cuenta en Github\n",
    "* Subir el proyecto a Github\n",
    "* Crear una cuenta (gratuita) en Streamlit Cloud\n",
    "* Crear una app en Streamlit Cloud enlazando con el proyecto de Github\n",
    "\n",
    "Puedes ver todo el proceso con capturas de pantalla en el documento Publicar en Streamlit Sharing.pdf que habrás descargado de la plataforma."
   ]
  }
 ],
 "metadata": {
  "kernelspec": {
   "display_name": "Python 3 (ipykernel)",
   "language": "python",
   "name": "python3"
  },
  "language_info": {
   "codemirror_mode": {
    "name": "ipython",
    "version": 3
   },
   "file_extension": ".py",
   "mimetype": "text/x-python",
   "name": "python",
   "nbconvert_exporter": "python",
   "pygments_lexer": "ipython3",
   "version": "3.12.2"
  },
  "toc": {
   "base_numbering": 1,
   "nav_menu": {},
   "number_sections": true,
   "sideBar": true,
   "skip_h1_title": false,
   "title_cell": "Table of Contents",
   "title_sidebar": "Contents",
   "toc_cell": false,
   "toc_position": {
    "height": "calc(100% - 180px)",
    "left": "10px",
    "top": "150px",
    "width": "165px"
   },
   "toc_section_display": true,
   "toc_window_display": true
  },
  "varInspector": {
   "cols": {
    "lenName": 16,
    "lenType": 16,
    "lenVar": 40
   },
   "kernels_config": {
    "python": {
     "delete_cmd_postfix": "",
     "delete_cmd_prefix": "del ",
     "library": "var_list.py",
     "varRefreshCmd": "print(var_dic_list())"
    },
    "r": {
     "delete_cmd_postfix": ") ",
     "delete_cmd_prefix": "rm(",
     "library": "var_list.r",
     "varRefreshCmd": "cat(var_dic_list()) "
    }
   },
   "types_to_exclude": [
    "module",
    "function",
    "builtin_function_or_method",
    "instance",
    "_Feature"
   ],
   "window_display": false
  }
 },
 "nbformat": 4,
 "nbformat_minor": 5
}
